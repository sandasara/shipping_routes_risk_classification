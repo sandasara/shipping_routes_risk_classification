{
 "cells": [
  {
   "cell_type": "code",
   "execution_count": 7,
   "id": "0ae2c294",
   "metadata": {},
   "outputs": [],
   "source": [
    "import os\n",
    "import re\n",
    "import requests\n",
    "import time\n",
    "\n",
    "import pandas as pd\n",
    "import numpy as np\n",
    "from bs4 import BeautifulSoup\n",
    "from datetime import datetime, timedelta, timezone\n",
    "\n",
    "from matplotlib import pyplot as plt\n",
    "import seaborn as sn\n",
    "\n",
    "from sklearn.model_selection import train_test_split, cross_val_score, StratifiedKFold"
   ]
  },
  {
   "cell_type": "code",
   "execution_count": 8,
   "id": "23b3ab0d",
   "metadata": {},
   "outputs": [],
   "source": [
    "# Function to calculate date by checking the date mentioned in the news article.\n",
    "# Dates on websites in the string format such as, '2 days ago'\n",
    "# The function convert data to yyyy/mm/dd format\n",
    "def convert_date(relative_date):\n",
    "    now = datetime.now(timezone.utc)\n",
    "    if 'day' in relative_date:\n",
    "        days_ago = int(re.findall(r'\\d+', relative_date)[0])\n",
    "        date = now - timedelta(days=days_ago)\n",
    "    elif 'hour' in relative_date:\n",
    "        hours_ago = int(re.findall(r'\\d+', relative_date)[0])\n",
    "        date = now - timedelta(hours=hours_ago)\n",
    "    elif 'days ago' in relative_date:\n",
    "        days_ago = int(re.findall(r'\\d+', relative_date)[0])\n",
    "        date = now - timedelta(days=days_ago)\n",
    "    elif 'month' in relative_date:\n",
    "        months_ago = int(re.findall(r'\\d+', relative_date)[0])\n",
    "        # Calculate the approximate number of days in the specified months\n",
    "        days_ago = months_ago * 30  \n",
    "        date = now - timedelta(days=days_ago)\n",
    "    else:\n",
    "        date = now\n",
    "    return date.strftime('%Y-%m-%d')"
   ]
  },
  {
   "cell_type": "code",
   "execution_count": 9,
   "id": "24ce019d",
   "metadata": {},
   "outputs": [],
   "source": [
    "# Define sraping functions for each site\n",
    "\n",
    "# Scrape function for GC Captain site\n",
    "def extract_data_from_gcaptain(url, headers):\n",
    "    news_results_gcaptain = []\n",
    "\n",
    "    try:\n",
    "        response = requests.get(url, headers=headers)\n",
    "        response.raise_for_status()  # Raise exception for bad status codes\n",
    "        \n",
    "        soup = BeautifulSoup(response.text, 'html.parser')\n",
    "        articles = soup.find_all('article')\n",
    "        \n",
    "        for article in articles:\n",
    "            title_elem = article.find('h3', class_='headline')\n",
    "            title = title_elem.text.strip() if title_elem else None\n",
    "            \n",
    "            date_elem = article.find('span', class_='date')\n",
    "            date = convert_date(date_elem.text.strip()) if date_elem else None\n",
    "            \n",
    "            description_elem = article.find('div', class_='p')\n",
    "            description = description_elem.text.strip() if description_elem else None\n",
    "            \n",
    "            if title and date and description:\n",
    "                news_results_gcaptain.append((date, title, description))\n",
    "        \n",
    "        # Throttling: Add a delay of 1 second before making the next request\n",
    "        time.sleep(1)\n",
    "        \n",
    "    except (requests.RequestException, AttributeError) as e:\n",
    "        print(f\"Error occurred: {e}\")\n",
    "    \n",
    "    return pd.DataFrame(news_results_gcaptain, columns=['Date', 'Title', 'Description'])\n",
    "\n",
    "\n",
    "# Scrape function for Seatrade site\n",
    "def extract_data_from_seatrade(url, headers):\n",
    "        news_results_seatrade = []\n",
    "        response = requests.get(url, headers=headers)   \n",
    "        response.raise_for_status()  \n",
    "        soup = BeautifulSoup(response.text, 'html.parser')\n",
    "        articles = soup.find_all('article')\n",
    "\n",
    "        for article in articles:\n",
    "            # Extract the title\n",
    "            title = article.find('div', class_='title')\n",
    "            if title is not None:\n",
    "                title = title.text\n",
    "            else:\n",
    "                title = \"\"\n",
    "\n",
    "            # Extract the date\n",
    "            date = article.find('span', class_='date')\n",
    "            if date is not None:\n",
    "                date = convert_date(date.text)\n",
    "            else:\n",
    "                date = \"\"\n",
    "            \n",
    "            # Extract the description\n",
    "            description = article.find('div', class_='summary-wrapper')\n",
    "            if description is not None:\n",
    "                description = description.text\n",
    "            else:\n",
    "                description = \"\"\n",
    "            \n",
    "            title_element = article.find('h3', class_='card-rich__title')\n",
    "            if title_element:\n",
    "                link = title_element.find('a', class_='card-rich__link')\n",
    "                if link:\n",
    "                    article_url = link['href']\n",
    "                else:\n",
    "                    article_url = \"\"\n",
    "            else:\n",
    "                article_url = \"\"\n",
    "            \n",
    "            print(article_url)\n",
    "            news_results_seatrade.append((date, title, description))\n",
    "            \n",
    "            time.sleep(1)\n",
    "\n",
    "        return pd.DataFrame(news_results_seatrade, columns=['Date', 'Title', 'Description'])\n",
    "\n",
    "# Scrape function for Offshore site\n",
    "def extract_data_from_offshore(url, headers):\n",
    "    news_results_offshore = []\n",
    "    page_num = 1\n",
    "    while page_num <= 25:\n",
    "        new_url = url + f'/page/{page_num}/'\n",
    "        response = requests.get(url, headers=headers)\n",
    "        soup = BeautifulSoup(response.content, 'html.parser')\n",
    "        articles = soup.find_all('div', class_='card-rich')\n",
    "        if len(articles) == 0:\n",
    "            break\n",
    "        for article in articles:\n",
    "            title = article.find('h3', class_='card-rich__title')\n",
    "            \n",
    "            if title is not None:\n",
    "                title = title.text.strip()\n",
    "            date = article.find('div', class_='card-rich__element card-rich__time-ago')\n",
    "            \n",
    "            if date is not None:\n",
    "                date = convert_date(date.text)\n",
    "            \n",
    "            link = article.find('a')\n",
    "            if link is not None:\n",
    "                article_url = link['href']\n",
    "                if not article_url.startswith('http'):\n",
    "                    article_url = 'https://www.offshore-energy.biz' + article_url\n",
    "\n",
    "                response = requests.get(article_url)\n",
    "                article_soup = BeautifulSoup(response.content, 'html.parser')\n",
    "                \n",
    "                description_container = article_soup.find('div', class_='wp-content')\n",
    "\n",
    "                if description_container is not None:\n",
    "                    description = ' '.join([p.text.strip() for p in description_container.find_all('p')])\n",
    "                else:\n",
    "                    description = None\n",
    "            else:\n",
    "                description = None\n",
    "           \n",
    "            news_results_offshore.append((date, title, description))\n",
    "        page_num += 1\n",
    "        \n",
    "        time.sleep(1)\n",
    "\n",
    "    return pd.DataFrame(news_results_offshore, columns=['Date', 'Title', 'Description'])\n",
    "\n",
    "# Scrape function for Marinelink site\n",
    "def extract_data_from_marinelink(url, headers):\n",
    "        news_results_marinelink = []\n",
    "\n",
    "        response = requests.get(url, headers=headers)\n",
    "        response.raise_for_status()  # Raise an exception for 4xx and 5xx status codes\n",
    "        soup = BeautifulSoup(response.text, 'html.parser')\n",
    "        articles = soup.select(\".row\")\n",
    "\n",
    "        for article in articles:\n",
    "            # Extract the title\n",
    "            title_element = article.find('h3')\n",
    "            if title_element is not None:\n",
    "                title = title_element.text.strip()\n",
    "            else:\n",
    "                title = \"\"\n",
    "\n",
    "            # Extract the date\n",
    "            date_element = article.find('div', class_='date')\n",
    "            if date_element is not None:\n",
    "                date = convert_date(date_element.text)\n",
    "            else:\n",
    "                date = \"\"\n",
    "\n",
    "            # Extract the description\n",
    "            description_element = article.find('p')\n",
    "            if description_element is not None:\n",
    "                description = description_element.text.strip()\n",
    "            else:\n",
    "                description = \"\"\n",
    "\n",
    "            news_results_marinelink.append((date, title, description))\n",
    "            \n",
    "            time.sleep(1)\n",
    "\n",
    "        return pd.DataFrame(news_results_marinelink, columns=['Date', 'Title', 'Description'])"
   ]
  },
  {
   "cell_type": "code",
   "execution_count": 10,
   "id": "78322463",
   "metadata": {},
   "outputs": [
    {
     "name": "stdout",
     "output_type": "stream",
     "text": [
      "\n",
      "\n",
      "\n",
      "\n",
      "\n",
      "\n",
      "\n",
      "\n",
      "\n",
      "\n",
      "\n",
      "\n",
      "\n",
      "\n",
      "\n",
      "\n",
      "\n",
      "\n",
      "\n",
      "\n",
      "\n",
      "\n",
      "\n",
      "\n",
      "\n"
     ]
    }
   ],
   "source": [
    "# List of URLs to scrape\n",
    "urls = [\n",
    "    \"https://gcaptain.com/\",\n",
    "    \"https://www.seatrade-maritime.com/maritime-news\",\n",
    "    \"https://www.offshore-energy.biz/category/long-reads/\",\n",
    "    \"https://www.marinelink.com/\",  \n",
    "]\n",
    "\n",
    "headers = {\n",
    "        'User-Agent': 'Mozilla/5.0 (Windows NT 10.0; Win64; x64) AppleWebKit/537.36 (KHTML, like Gecko) Chrome/58.0.3029.110 Safari/537.3'\n",
    "}\n",
    "\n",
    "# Create an empty list to store the DataFrames for each URL\n",
    "dfs = []\n",
    "\n",
    "# Loop through the URLs and extract data using corresponding functions\n",
    "for url in urls:\n",
    "    if \"gcaptain\" in url:\n",
    "        df = extract_data_from_gcaptain(url, headers)\n",
    "    elif \"seatrade-maritime\" in url:\n",
    "        df = extract_data_from_seatrade(url, headers)\n",
    "    elif \"offshore-energy\" in url:\n",
    "        df = extract_data_from_offshore(url, headers)\n",
    "    elif \"marinelink\" in url:\n",
    "        df = extract_data_from_marinelink(url, headers)\n",
    "    else:\n",
    "        print(\"Unknown URL:\", url)\n",
    "        continue\n",
    "    dfs.append(df)"
   ]
  },
  {
   "cell_type": "code",
   "execution_count": 78,
   "id": "bac8a9cc",
   "metadata": {},
   "outputs": [
    {
     "data": {
      "text/html": [
       "<div>\n",
       "<style scoped>\n",
       "    .dataframe tbody tr th:only-of-type {\n",
       "        vertical-align: middle;\n",
       "    }\n",
       "\n",
       "    .dataframe tbody tr th {\n",
       "        vertical-align: top;\n",
       "    }\n",
       "\n",
       "    .dataframe thead th {\n",
       "        text-align: right;\n",
       "    }\n",
       "</style>\n",
       "<table border=\"1\" class=\"dataframe\">\n",
       "  <thead>\n",
       "    <tr style=\"text-align: right;\">\n",
       "      <th></th>\n",
       "      <th>Date</th>\n",
       "      <th>Title</th>\n",
       "      <th>Description</th>\n",
       "    </tr>\n",
       "  </thead>\n",
       "  <tbody>\n",
       "    <tr>\n",
       "      <th>0</th>\n",
       "      <td>2024-04-06</td>\n",
       "      <td>\\nX-Press Feeders signs green shipping corrido...</td>\n",
       "      <td></td>\n",
       "    </tr>\n",
       "    <tr>\n",
       "      <th>1</th>\n",
       "      <td>2024-04-06</td>\n",
       "      <td>\\nBlack Sea feeder delivers first containers t...</td>\n",
       "      <td></td>\n",
       "    </tr>\n",
       "    <tr>\n",
       "      <th>2</th>\n",
       "      <td>2024-04-06</td>\n",
       "      <td>\\nUK government launches £1.5m green corridor ...</td>\n",
       "      <td></td>\n",
       "    </tr>\n",
       "    <tr>\n",
       "      <th>3</th>\n",
       "      <td>2024-04-06</td>\n",
       "      <td>\\nEvergreen diverts cargo in wake of Baltimore...</td>\n",
       "      <td></td>\n",
       "    </tr>\n",
       "    <tr>\n",
       "      <th>4</th>\n",
       "      <td>2024-04-06</td>\n",
       "      <td>\\nYang Ming says no injuries or pollution from...</td>\n",
       "      <td></td>\n",
       "    </tr>\n",
       "    <tr>\n",
       "      <th>...</th>\n",
       "      <td>...</td>\n",
       "      <td>...</td>\n",
       "      <td>...</td>\n",
       "    </tr>\n",
       "    <tr>\n",
       "      <th>647</th>\n",
       "      <td>2024-03-07</td>\n",
       "      <td>EU’s ties to Russian gas: LNG tanker routes pi...</td>\n",
       "      <td>Since the Ukraine crisis took the world by sto...</td>\n",
       "    </tr>\n",
       "    <tr>\n",
       "      <th>648</th>\n",
       "      <td>2024-03-07</td>\n",
       "      <td>Tekmar says 2023 pivotal year, despite instabi...</td>\n",
       "      <td>Tekmar Group has reported improved financial p...</td>\n",
       "    </tr>\n",
       "    <tr>\n",
       "      <th>649</th>\n",
       "      <td>2024-03-07</td>\n",
       "      <td>Prysmian, Hitachi Energy, and BAM pen deals fo...</td>\n",
       "      <td>Three subsea market players – Italy’s cable gi...</td>\n",
       "    </tr>\n",
       "    <tr>\n",
       "      <th>650</th>\n",
       "      <td>2024-04-06</td>\n",
       "      <td>Divers Recover Body in Baltimore</td>\n",
       "      <td>Unified Command dive teams have recovered the ...</td>\n",
       "    </tr>\n",
       "    <tr>\n",
       "      <th>651</th>\n",
       "      <td>2024-04-06</td>\n",
       "      <td>Baltimore Can Use Grant to Boost Cargo Shipments</td>\n",
       "      <td></td>\n",
       "    </tr>\n",
       "  </tbody>\n",
       "</table>\n",
       "<p>652 rows × 3 columns</p>\n",
       "</div>"
      ],
      "text/plain": [
       "           Date                                              Title  \\\n",
       "0    2024-04-06  \\nX-Press Feeders signs green shipping corrido...   \n",
       "1    2024-04-06  \\nBlack Sea feeder delivers first containers t...   \n",
       "2    2024-04-06  \\nUK government launches £1.5m green corridor ...   \n",
       "3    2024-04-06  \\nEvergreen diverts cargo in wake of Baltimore...   \n",
       "4    2024-04-06  \\nYang Ming says no injuries or pollution from...   \n",
       "..          ...                                                ...   \n",
       "647  2024-03-07  EU’s ties to Russian gas: LNG tanker routes pi...   \n",
       "648  2024-03-07  Tekmar says 2023 pivotal year, despite instabi...   \n",
       "649  2024-03-07  Prysmian, Hitachi Energy, and BAM pen deals fo...   \n",
       "650  2024-04-06                   Divers Recover Body in Baltimore   \n",
       "651  2024-04-06   Baltimore Can Use Grant to Boost Cargo Shipments   \n",
       "\n",
       "                                           Description  \n",
       "0                                                       \n",
       "1                                                       \n",
       "2                                                       \n",
       "3                                                       \n",
       "4                                                       \n",
       "..                                                 ...  \n",
       "647  Since the Ukraine crisis took the world by sto...  \n",
       "648  Tekmar Group has reported improved financial p...  \n",
       "649  Three subsea market players – Italy’s cable gi...  \n",
       "650  Unified Command dive teams have recovered the ...  \n",
       "651                                                     \n",
       "\n",
       "[652 rows x 3 columns]"
      ]
     },
     "execution_count": 78,
     "metadata": {},
     "output_type": "execute_result"
    }
   ],
   "source": [
    "# Concatenate all the DataFrames into a single DataFrame\n",
    "combined_df = pd.concat(dfs, ignore_index=True)\n",
    "combined_df"
   ]
  },
  {
   "cell_type": "code",
   "execution_count": 79,
   "id": "54b3b7c3",
   "metadata": {},
   "outputs": [
    {
     "data": {
      "text/plain": [
       "603"
      ]
     },
     "execution_count": 79,
     "metadata": {},
     "output_type": "execute_result"
    }
   ],
   "source": [
    "combined_df.duplicated().sum()"
   ]
  },
  {
   "cell_type": "code",
   "execution_count": 80,
   "id": "f41b6021",
   "metadata": {},
   "outputs": [
    {
     "data": {
      "text/plain": [
       "(49, 3)"
      ]
     },
     "execution_count": 80,
     "metadata": {},
     "output_type": "execute_result"
    }
   ],
   "source": [
    "combined_df.drop_duplicates(inplace=True)\n",
    "combined_df.shape"
   ]
  },
  {
   "cell_type": "code",
   "execution_count": 81,
   "id": "3aa904c6",
   "metadata": {
    "scrolled": true
   },
   "outputs": [
    {
     "name": "stdout",
     "output_type": "stream",
     "text": [
      "(18, 3)\n"
     ]
    },
    {
     "name": "stderr",
     "output_type": "stream",
     "text": [
      "C:\\Users\\Dishan\\AppData\\Local\\Temp\\ipykernel_8396\\249996286.py:27: UserWarning: This pattern is interpreted as a regular expression, and has match groups. To actually get the groups, use str.extract.\n",
      "  filtered_df = combined_df[combined_df['Title'].str.contains('|'.join(keywords), case=False) |\n",
      "C:\\Users\\Dishan\\AppData\\Local\\Temp\\ipykernel_8396\\249996286.py:28: UserWarning: This pattern is interpreted as a regular expression, and has match groups. To actually get the groups, use str.extract.\n",
      "  combined_df['Description'].str.contains('|'.join(keywords), case=False)]\n"
     ]
    },
    {
     "data": {
      "text/html": [
       "<div>\n",
       "<style scoped>\n",
       "    .dataframe tbody tr th:only-of-type {\n",
       "        vertical-align: middle;\n",
       "    }\n",
       "\n",
       "    .dataframe tbody tr th {\n",
       "        vertical-align: top;\n",
       "    }\n",
       "\n",
       "    .dataframe thead th {\n",
       "        text-align: right;\n",
       "    }\n",
       "</style>\n",
       "<table border=\"1\" class=\"dataframe\">\n",
       "  <thead>\n",
       "    <tr style=\"text-align: right;\">\n",
       "      <th></th>\n",
       "      <th>Date</th>\n",
       "      <th>Title</th>\n",
       "      <th>Description</th>\n",
       "    </tr>\n",
       "  </thead>\n",
       "  <tbody>\n",
       "    <tr>\n",
       "      <th>15</th>\n",
       "      <td>2024-04-06</td>\n",
       "      <td>\\nEvergreen diverts cargo in wake of Baltimore...</td>\n",
       "      <td>\\nTaiwan container line Evergreen said it expe...</td>\n",
       "    </tr>\n",
       "    <tr>\n",
       "      <th>17</th>\n",
       "      <td>2024-04-06</td>\n",
       "      <td>\\nZeroNorth opening an office in Japan</td>\n",
       "      <td>\\nZeroNorth, which recently merged with Alpha ...</td>\n",
       "    </tr>\n",
       "    <tr>\n",
       "      <th>18</th>\n",
       "      <td>2024-04-06</td>\n",
       "      <td>\\nGlobal names back association to promote nuc...</td>\n",
       "      <td>\\nMajor classification societies, and Korean a...</td>\n",
       "    </tr>\n",
       "    <tr>\n",
       "      <th>22</th>\n",
       "      <td>2024-04-06</td>\n",
       "      <td>\\nPiraeus port reports record profit for 2023</td>\n",
       "      <td>\\nChina’s Cosco-controlled Piraeus Port Author...</td>\n",
       "    </tr>\n",
       "    <tr>\n",
       "      <th>27</th>\n",
       "      <td>2024-04-01</td>\n",
       "      <td>Mega LNG fleet expansion quest rises to 104 ve...</td>\n",
       "      <td>Qatar’s state-owned energy giant QatarEnergy h...</td>\n",
       "    </tr>\n",
       "    <tr>\n",
       "      <th>28</th>\n",
       "      <td>2024-03-28</td>\n",
       "      <td>Ane Maersk makes maiden call to Hamburg</td>\n",
       "      <td>Following the maiden call of Ane Maersk, the ‘...</td>\n",
       "    </tr>\n",
       "    <tr>\n",
       "      <th>31</th>\n",
       "      <td>2024-03-22</td>\n",
       "      <td>Türkiye puts wind in Black Sea oil &amp; gas explo...</td>\n",
       "      <td>This is a free premium article to give you a s...</td>\n",
       "    </tr>\n",
       "    <tr>\n",
       "      <th>33</th>\n",
       "      <td>2024-03-20</td>\n",
       "      <td>The rise of Global South in maritime decarboni...</td>\n",
       "      <td>So far, maritime decarbonization has been focu...</td>\n",
       "    </tr>\n",
       "    <tr>\n",
       "      <th>34</th>\n",
       "      <td>2024-03-19</td>\n",
       "      <td>Fossil fuels’ 75% methane cuts by 2030 come wi...</td>\n",
       "      <td>As countries embrace tools and efforts aimed a...</td>\n",
       "    </tr>\n",
       "    <tr>\n",
       "      <th>35</th>\n",
       "      <td>2024-03-19</td>\n",
       "      <td>Oil &amp; gas infrastructure in North Sea countrie...</td>\n",
       "      <td>With heatwaves sounding the alarm over the wor...</td>\n",
       "    </tr>\n",
       "    <tr>\n",
       "      <th>37</th>\n",
       "      <td>2024-01-07</td>\n",
       "      <td>Towards a new generation with the Damen Offsho...</td>\n",
       "      <td>The development of Damen’s Offshore Carrier ve...</td>\n",
       "    </tr>\n",
       "    <tr>\n",
       "      <th>39</th>\n",
       "      <td>2024-03-19</td>\n",
       "      <td>Brand-new satellite with ‘superpower’ to gauge...</td>\n",
       "      <td>MethaneSAT, a subsidiary of the Environmental ...</td>\n",
       "    </tr>\n",
       "    <tr>\n",
       "      <th>42</th>\n",
       "      <td>2024-03-14</td>\n",
       "      <td>How far has Shell’s decarbonization journey go...</td>\n",
       "      <td>UK-headquartered energy giant Shell has reiter...</td>\n",
       "    </tr>\n",
       "    <tr>\n",
       "      <th>43</th>\n",
       "      <td>2024-03-12</td>\n",
       "      <td>Battle for work-life balance continues, as wor...</td>\n",
       "      <td>As the crusade for a better work and life bala...</td>\n",
       "    </tr>\n",
       "    <tr>\n",
       "      <th>44</th>\n",
       "      <td>2024-03-12</td>\n",
       "      <td>Shipping's EU ETS costs could triple due to Re...</td>\n",
       "      <td>The Red Sea shipping crisis could result in ne...</td>\n",
       "    </tr>\n",
       "    <tr>\n",
       "      <th>46</th>\n",
       "      <td>2024-03-11</td>\n",
       "      <td>Winds of change sweep across UK’s energy sector</td>\n",
       "      <td>As the push for stronger climate action gains ...</td>\n",
       "    </tr>\n",
       "    <tr>\n",
       "      <th>47</th>\n",
       "      <td>2024-03-07</td>\n",
       "      <td>EU’s ties to Russian gas: LNG tanker routes pi...</td>\n",
       "      <td>Since the Ukraine crisis took the world by sto...</td>\n",
       "    </tr>\n",
       "    <tr>\n",
       "      <th>48</th>\n",
       "      <td>2024-03-07</td>\n",
       "      <td>Tekmar says 2023 pivotal year, despite instabi...</td>\n",
       "      <td>Tekmar Group has reported improved financial p...</td>\n",
       "    </tr>\n",
       "  </tbody>\n",
       "</table>\n",
       "</div>"
      ],
      "text/plain": [
       "          Date                                              Title  \\\n",
       "15  2024-04-06  \\nEvergreen diverts cargo in wake of Baltimore...   \n",
       "17  2024-04-06            \\nZeroNorth opening an office in Japan    \n",
       "18  2024-04-06  \\nGlobal names back association to promote nuc...   \n",
       "22  2024-04-06     \\nPiraeus port reports record profit for 2023    \n",
       "27  2024-04-01  Mega LNG fleet expansion quest rises to 104 ve...   \n",
       "28  2024-03-28            Ane Maersk makes maiden call to Hamburg   \n",
       "31  2024-03-22  Türkiye puts wind in Black Sea oil & gas explo...   \n",
       "33  2024-03-20  The rise of Global South in maritime decarboni...   \n",
       "34  2024-03-19  Fossil fuels’ 75% methane cuts by 2030 come wi...   \n",
       "35  2024-03-19  Oil & gas infrastructure in North Sea countrie...   \n",
       "37  2024-01-07  Towards a new generation with the Damen Offsho...   \n",
       "39  2024-03-19  Brand-new satellite with ‘superpower’ to gauge...   \n",
       "42  2024-03-14  How far has Shell’s decarbonization journey go...   \n",
       "43  2024-03-12  Battle for work-life balance continues, as wor...   \n",
       "44  2024-03-12  Shipping's EU ETS costs could triple due to Re...   \n",
       "46  2024-03-11    Winds of change sweep across UK’s energy sector   \n",
       "47  2024-03-07  EU’s ties to Russian gas: LNG tanker routes pi...   \n",
       "48  2024-03-07  Tekmar says 2023 pivotal year, despite instabi...   \n",
       "\n",
       "                                          Description  \n",
       "15  \\nTaiwan container line Evergreen said it expe...  \n",
       "17  \\nZeroNorth, which recently merged with Alpha ...  \n",
       "18  \\nMajor classification societies, and Korean a...  \n",
       "22  \\nChina’s Cosco-controlled Piraeus Port Author...  \n",
       "27  Qatar’s state-owned energy giant QatarEnergy h...  \n",
       "28  Following the maiden call of Ane Maersk, the ‘...  \n",
       "31  This is a free premium article to give you a s...  \n",
       "33  So far, maritime decarbonization has been focu...  \n",
       "34  As countries embrace tools and efforts aimed a...  \n",
       "35  With heatwaves sounding the alarm over the wor...  \n",
       "37  The development of Damen’s Offshore Carrier ve...  \n",
       "39  MethaneSAT, a subsidiary of the Environmental ...  \n",
       "42  UK-headquartered energy giant Shell has reiter...  \n",
       "43  As the crusade for a better work and life bala...  \n",
       "44  The Red Sea shipping crisis could result in ne...  \n",
       "46  As the push for stronger climate action gains ...  \n",
       "47  Since the Ukraine crisis took the world by sto...  \n",
       "48  Tekmar Group has reported improved financial p...  "
      ]
     },
     "execution_count": 81,
     "metadata": {},
     "output_type": "execute_result"
    }
   ],
   "source": [
    "# Filter the news results based on keywords\n",
    "# Filtering is done to select data only about the shipping routes which MAS is operating \n",
    "\n",
    "# If there are missing values in the 'Title', and 'Description' columns, fill with an empty string.\n",
    "combined_df['Title'] = combined_df['Title'].fillna('')\n",
    "combined_df['Description'] = combined_df['Description'].fillna('')\n",
    "\n",
    "# Define keywords list.\n",
    "keywords = [\"Taiwan\", \"Taipei port\", \"China\", \"Shanghai\",\"Chattogram port\",\"USA\",\"Singapore\"\n",
    "               \"Antwerp port\", \"Shenzhen port\",\"Shanghai port\",\"Colombia port\",\"Le Havre  port\",\"Hamburg/ Bremerhaven port\",\n",
    "                \"Hong Kong port\",\"Chennai port\",\"Nhava Sheva port\",\"OOCL\",\"ZIM\",\"Wan Hai\",\"CNC\",\"Dongjin\",\"Heung-A\",\"Jin Jiang\",\n",
    "                \"Tuticorin port\",\"Vishakhapatnam port\", \"Semarang (Via SIN) port\",\"Interasia\",\"Hai Hua\",\"Sinotrans\",\"SITC\",\n",
    "                \"Osaka port\",\"Busan port\",\"Singapore port\",\"Maersk\",\"USA\",\"UAE\",\"Misheng\",\"Pan Continental\",\"Nirint\",\"Admiral Container\",\"AC Container\",\n",
    "                \"Kaohsiung port\",\"Hong Kong\",\"Colombia\",\"Bangladesh\",\"Belgium\",\"Colombia\",\"France\",\"Germany\",\"Hong Kong\",\"India\",\"Korea\",\"Busan\",\"OOCL/COSCO/MAERSK\",\n",
    "\"Isreal\",\"Haifa\",\n",
    "\"Indonesia\",\"Jakarta\",\"HAPAG/ ONE\",\n",
    "\"Malaysia\",\"Klang\",\n",
    "\"Japan\",\"Kobe\",\n",
    "\"Singapore\",\"ONE/HAPAG/COSCO\"\n",
    "\"ITALY\",\"GENOVA\",\"MAERSK\"\n",
    "\"GERMANY\",\"HAMBURG\",\"HAPAG (DHL) / MSC (EFL-CO LOADER)\",\n",
    "\"BELGIUM\",\"ANTAWERP\",\"ECU (CO LOADER)\",\n",
    "\"TURKEY\",\"ISTANBUL\",\"ONE (CO LOADER )\"\n",
    "]\n",
    "\n",
    "# filter rows that has keywords in 'Title' or 'Description' column.\n",
    "filtered_df = combined_df[combined_df['Title'].str.contains('|'.join(keywords), case=False) |\n",
    "                          combined_df['Description'].str.contains('|'.join(keywords), case=False)]\n",
    "\n",
    "print(filtered_df.shape)\n",
    "filtered_df"
   ]
  },
  {
   "cell_type": "code",
   "execution_count": 82,
   "id": "3387064d",
   "metadata": {},
   "outputs": [
    {
     "data": {
      "text/html": [
       "<div>\n",
       "<style scoped>\n",
       "    .dataframe tbody tr th:only-of-type {\n",
       "        vertical-align: middle;\n",
       "    }\n",
       "\n",
       "    .dataframe tbody tr th {\n",
       "        vertical-align: top;\n",
       "    }\n",
       "\n",
       "    .dataframe thead th {\n",
       "        text-align: right;\n",
       "    }\n",
       "</style>\n",
       "<table border=\"1\" class=\"dataframe\">\n",
       "  <thead>\n",
       "    <tr style=\"text-align: right;\">\n",
       "      <th></th>\n",
       "      <th>Date</th>\n",
       "      <th>Title</th>\n",
       "      <th>Description</th>\n",
       "    </tr>\n",
       "  </thead>\n",
       "  <tbody>\n",
       "    <tr>\n",
       "      <th>0</th>\n",
       "      <td>2023-09-06</td>\n",
       "      <td>\\nMawei Shipyard bags PCTC pair from Neptune L...</td>\n",
       "      <td>NaN</td>\n",
       "    </tr>\n",
       "    <tr>\n",
       "      <th>1</th>\n",
       "      <td>2023-09-06</td>\n",
       "      <td>\\n Hong Kong port container volumes plunge in Q2</td>\n",
       "      <td>\\nThe Asian container port of Hong Kong saw a ...</td>\n",
       "    </tr>\n",
       "    <tr>\n",
       "      <th>2</th>\n",
       "      <td>2023-09-06</td>\n",
       "      <td>\\nMaersk and MSC extend Golden Week vessel can...</td>\n",
       "      <td>\\nBoth MSC and Maersk have extended the 2M all...</td>\n",
       "    </tr>\n",
       "    <tr>\n",
       "      <th>3</th>\n",
       "      <td>2023-09-06</td>\n",
       "      <td>\\nAsia – Pacific offshore wind developments fa...</td>\n",
       "      <td>\\nWith some 5,000 offshore wind farms forecast...</td>\n",
       "    </tr>\n",
       "    <tr>\n",
       "      <th>4</th>\n",
       "      <td>2023-09-06</td>\n",
       "      <td>\\nUp to $12 billion investment needed for offs...</td>\n",
       "      <td>\\nA likely 300-fold increase in global offshor...</td>\n",
       "    </tr>\n",
       "    <tr>\n",
       "      <th>...</th>\n",
       "      <td>...</td>\n",
       "      <td>...</td>\n",
       "      <td>...</td>\n",
       "    </tr>\n",
       "    <tr>\n",
       "      <th>518</th>\n",
       "      <td>2024-03-12</td>\n",
       "      <td>Battle for work-life balance continues, as wor...</td>\n",
       "      <td>As the crusade for a better work and life bala...</td>\n",
       "    </tr>\n",
       "    <tr>\n",
       "      <th>519</th>\n",
       "      <td>2024-03-12</td>\n",
       "      <td>Shipping's EU ETS costs could triple due to Re...</td>\n",
       "      <td>The Red Sea shipping crisis could result in ne...</td>\n",
       "    </tr>\n",
       "    <tr>\n",
       "      <th>520</th>\n",
       "      <td>2024-03-11</td>\n",
       "      <td>Winds of change sweep across UK’s energy sector</td>\n",
       "      <td>As the push for stronger climate action gains ...</td>\n",
       "    </tr>\n",
       "    <tr>\n",
       "      <th>521</th>\n",
       "      <td>2024-03-07</td>\n",
       "      <td>EU’s ties to Russian gas: LNG tanker routes pi...</td>\n",
       "      <td>Since the Ukraine crisis took the world by sto...</td>\n",
       "    </tr>\n",
       "    <tr>\n",
       "      <th>522</th>\n",
       "      <td>2024-03-07</td>\n",
       "      <td>Tekmar says 2023 pivotal year, despite instabi...</td>\n",
       "      <td>Tekmar Group has reported improved financial p...</td>\n",
       "    </tr>\n",
       "  </tbody>\n",
       "</table>\n",
       "<p>523 rows × 3 columns</p>\n",
       "</div>"
      ],
      "text/plain": [
       "           Date                                              Title  \\\n",
       "0    2023-09-06  \\nMawei Shipyard bags PCTC pair from Neptune L...   \n",
       "1    2023-09-06  \\n Hong Kong port container volumes plunge in Q2    \n",
       "2    2023-09-06  \\nMaersk and MSC extend Golden Week vessel can...   \n",
       "3    2023-09-06  \\nAsia – Pacific offshore wind developments fa...   \n",
       "4    2023-09-06  \\nUp to $12 billion investment needed for offs...   \n",
       "..          ...                                                ...   \n",
       "518  2024-03-12  Battle for work-life balance continues, as wor...   \n",
       "519  2024-03-12  Shipping's EU ETS costs could triple due to Re...   \n",
       "520  2024-03-11    Winds of change sweep across UK’s energy sector   \n",
       "521  2024-03-07  EU’s ties to Russian gas: LNG tanker routes pi...   \n",
       "522  2024-03-07  Tekmar says 2023 pivotal year, despite instabi...   \n",
       "\n",
       "                                           Description  \n",
       "0                                                  NaN  \n",
       "1    \\nThe Asian container port of Hong Kong saw a ...  \n",
       "2    \\nBoth MSC and Maersk have extended the 2M all...  \n",
       "3    \\nWith some 5,000 offshore wind farms forecast...  \n",
       "4    \\nA likely 300-fold increase in global offshor...  \n",
       "..                                                 ...  \n",
       "518  As the crusade for a better work and life bala...  \n",
       "519  The Red Sea shipping crisis could result in ne...  \n",
       "520  As the push for stronger climate action gains ...  \n",
       "521  Since the Ukraine crisis took the world by sto...  \n",
       "522  Tekmar Group has reported improved financial p...  \n",
       "\n",
       "[523 rows x 3 columns]"
      ]
     },
     "execution_count": 82,
     "metadata": {},
     "output_type": "execute_result"
    }
   ],
   "source": [
    "# Combine newly scraped data to existing data file\n",
    "# Check if the Excel file exists\n",
    "if os.path.exists(\"raw_news.xlsx\"):\n",
    "    # Load the existing Excel file into a DataFrame\n",
    "    existing_df = pd.read_excel(\"raw_news.xlsx\")\n",
    "\n",
    "existing_df"
   ]
  },
  {
   "cell_type": "code",
   "execution_count": 83,
   "id": "1a458b89",
   "metadata": {},
   "outputs": [
    {
     "data": {
      "text/html": [
       "<div>\n",
       "<style scoped>\n",
       "    .dataframe tbody tr th:only-of-type {\n",
       "        vertical-align: middle;\n",
       "    }\n",
       "\n",
       "    .dataframe tbody tr th {\n",
       "        vertical-align: top;\n",
       "    }\n",
       "\n",
       "    .dataframe thead th {\n",
       "        text-align: right;\n",
       "    }\n",
       "</style>\n",
       "<table border=\"1\" class=\"dataframe\">\n",
       "  <thead>\n",
       "    <tr style=\"text-align: right;\">\n",
       "      <th></th>\n",
       "      <th>Date</th>\n",
       "      <th>Title</th>\n",
       "      <th>Description</th>\n",
       "    </tr>\n",
       "  </thead>\n",
       "  <tbody>\n",
       "    <tr>\n",
       "      <th>0</th>\n",
       "      <td>2023-09-06</td>\n",
       "      <td>\\nMawei Shipyard bags PCTC pair from Neptune L...</td>\n",
       "      <td>NaN</td>\n",
       "    </tr>\n",
       "    <tr>\n",
       "      <th>1</th>\n",
       "      <td>2023-09-06</td>\n",
       "      <td>\\n Hong Kong port container volumes plunge in Q2</td>\n",
       "      <td>\\nThe Asian container port of Hong Kong saw a ...</td>\n",
       "    </tr>\n",
       "    <tr>\n",
       "      <th>2</th>\n",
       "      <td>2023-09-06</td>\n",
       "      <td>\\nMaersk and MSC extend Golden Week vessel can...</td>\n",
       "      <td>\\nBoth MSC and Maersk have extended the 2M all...</td>\n",
       "    </tr>\n",
       "    <tr>\n",
       "      <th>3</th>\n",
       "      <td>2023-09-06</td>\n",
       "      <td>\\nAsia – Pacific offshore wind developments fa...</td>\n",
       "      <td>\\nWith some 5,000 offshore wind farms forecast...</td>\n",
       "    </tr>\n",
       "    <tr>\n",
       "      <th>4</th>\n",
       "      <td>2023-09-06</td>\n",
       "      <td>\\nUp to $12 billion investment needed for offs...</td>\n",
       "      <td>\\nA likely 300-fold increase in global offshor...</td>\n",
       "    </tr>\n",
       "    <tr>\n",
       "      <th>...</th>\n",
       "      <td>...</td>\n",
       "      <td>...</td>\n",
       "      <td>...</td>\n",
       "    </tr>\n",
       "    <tr>\n",
       "      <th>536</th>\n",
       "      <td>2024-03-12</td>\n",
       "      <td>Battle for work-life balance continues, as wor...</td>\n",
       "      <td>As the crusade for a better work and life bala...</td>\n",
       "    </tr>\n",
       "    <tr>\n",
       "      <th>537</th>\n",
       "      <td>2024-03-12</td>\n",
       "      <td>Shipping's EU ETS costs could triple due to Re...</td>\n",
       "      <td>The Red Sea shipping crisis could result in ne...</td>\n",
       "    </tr>\n",
       "    <tr>\n",
       "      <th>538</th>\n",
       "      <td>2024-03-11</td>\n",
       "      <td>Winds of change sweep across UK’s energy sector</td>\n",
       "      <td>As the push for stronger climate action gains ...</td>\n",
       "    </tr>\n",
       "    <tr>\n",
       "      <th>539</th>\n",
       "      <td>2024-03-07</td>\n",
       "      <td>EU’s ties to Russian gas: LNG tanker routes pi...</td>\n",
       "      <td>Since the Ukraine crisis took the world by sto...</td>\n",
       "    </tr>\n",
       "    <tr>\n",
       "      <th>540</th>\n",
       "      <td>2024-03-07</td>\n",
       "      <td>Tekmar says 2023 pivotal year, despite instabi...</td>\n",
       "      <td>Tekmar Group has reported improved financial p...</td>\n",
       "    </tr>\n",
       "  </tbody>\n",
       "</table>\n",
       "<p>541 rows × 3 columns</p>\n",
       "</div>"
      ],
      "text/plain": [
       "           Date                                              Title  \\\n",
       "0    2023-09-06  \\nMawei Shipyard bags PCTC pair from Neptune L...   \n",
       "1    2023-09-06  \\n Hong Kong port container volumes plunge in Q2    \n",
       "2    2023-09-06  \\nMaersk and MSC extend Golden Week vessel can...   \n",
       "3    2023-09-06  \\nAsia – Pacific offshore wind developments fa...   \n",
       "4    2023-09-06  \\nUp to $12 billion investment needed for offs...   \n",
       "..          ...                                                ...   \n",
       "536  2024-03-12  Battle for work-life balance continues, as wor...   \n",
       "537  2024-03-12  Shipping's EU ETS costs could triple due to Re...   \n",
       "538  2024-03-11    Winds of change sweep across UK’s energy sector   \n",
       "539  2024-03-07  EU’s ties to Russian gas: LNG tanker routes pi...   \n",
       "540  2024-03-07  Tekmar says 2023 pivotal year, despite instabi...   \n",
       "\n",
       "                                           Description  \n",
       "0                                                  NaN  \n",
       "1    \\nThe Asian container port of Hong Kong saw a ...  \n",
       "2    \\nBoth MSC and Maersk have extended the 2M all...  \n",
       "3    \\nWith some 5,000 offshore wind farms forecast...  \n",
       "4    \\nA likely 300-fold increase in global offshor...  \n",
       "..                                                 ...  \n",
       "536  As the crusade for a better work and life bala...  \n",
       "537  The Red Sea shipping crisis could result in ne...  \n",
       "538  As the push for stronger climate action gains ...  \n",
       "539  Since the Ukraine crisis took the world by sto...  \n",
       "540  Tekmar Group has reported improved financial p...  \n",
       "\n",
       "[541 rows x 3 columns]"
      ]
     },
     "execution_count": 83,
     "metadata": {},
     "output_type": "execute_result"
    }
   ],
   "source": [
    "# Combine the existing DataFrame with the newly scraped data\n",
    "combined_df = pd.concat([existing_df, filtered_df], ignore_index=True)\n",
    "combined_df"
   ]
  },
  {
   "cell_type": "code",
   "execution_count": 84,
   "id": "3e35c81e",
   "metadata": {},
   "outputs": [
    {
     "data": {
      "text/plain": [
       "Date           0\n",
       "Title          0\n",
       "Description    1\n",
       "dtype: int64"
      ]
     },
     "execution_count": 84,
     "metadata": {},
     "output_type": "execute_result"
    }
   ],
   "source": [
    "combined_df.isna().sum()"
   ]
  },
  {
   "cell_type": "code",
   "execution_count": 85,
   "id": "29ad4188",
   "metadata": {},
   "outputs": [
    {
     "name": "stdout",
     "output_type": "stream",
     "text": [
      "Duplicate:  18\n",
      "Title Duplicates:  18\n",
      "Description Duplicates:  18\n"
     ]
    }
   ],
   "source": [
    "# Check duplicates\n",
    "print('Duplicate: ', combined_df.duplicated().sum())\n",
    "print('Title Duplicates: ', combined_df['Title'].duplicated().sum())\n",
    "print('Description Duplicates: ', combined_df['Description'].duplicated().sum())"
   ]
  },
  {
   "cell_type": "code",
   "execution_count": 86,
   "id": "8ad3ffd1",
   "metadata": {},
   "outputs": [
    {
     "name": "stdout",
     "output_type": "stream",
     "text": [
      "Unique Titles:  523\n",
      "Unique Descriptions:  522\n"
     ]
    }
   ],
   "source": [
    "# Check the number of unique rows\n",
    "print('Unique Titles: ', combined_df['Title'].nunique())\n",
    "print('Unique Descriptions: ', combined_df['Description'].nunique())"
   ]
  },
  {
   "cell_type": "code",
   "execution_count": 87,
   "id": "1b9529cf",
   "metadata": {},
   "outputs": [
    {
     "data": {
      "text/plain": [
       "523    \\nEvergreen diverts cargo in wake of Baltimore...\n",
       "524              \\nZeroNorth opening an office in Japan \n",
       "525    \\nGlobal names back association to promote nuc...\n",
       "526       \\nPiraeus port reports record profit for 2023 \n",
       "527    Mega LNG fleet expansion quest rises to 104 ve...\n",
       "528              Ane Maersk makes maiden call to Hamburg\n",
       "529    Türkiye puts wind in Black Sea oil & gas explo...\n",
       "530    The rise of Global South in maritime decarboni...\n",
       "531    Fossil fuels’ 75% methane cuts by 2030 come wi...\n",
       "532    Oil & gas infrastructure in North Sea countrie...\n",
       "533    Towards a new generation with the Damen Offsho...\n",
       "534    Brand-new satellite with ‘superpower’ to gauge...\n",
       "535    How far has Shell’s decarbonization journey go...\n",
       "536    Battle for work-life balance continues, as wor...\n",
       "537    Shipping's EU ETS costs could triple due to Re...\n",
       "538      Winds of change sweep across UK’s energy sector\n",
       "539    EU’s ties to Russian gas: LNG tanker routes pi...\n",
       "540    Tekmar says 2023 pivotal year, despite instabi...\n",
       "Name: Title, dtype: object"
      ]
     },
     "execution_count": 87,
     "metadata": {},
     "output_type": "execute_result"
    }
   ],
   "source": [
    "# Check duplicate titles\n",
    "combined_df[combined_df['Title'].duplicated()]['Title']"
   ]
  },
  {
   "cell_type": "code",
   "execution_count": 88,
   "id": "2c6f8f6b",
   "metadata": {},
   "outputs": [
    {
     "data": {
      "text/plain": [
       "0      \\nMawei Shipyard bags PCTC pair from Neptune L...\n",
       "1      \\n Hong Kong port container volumes plunge in Q2 \n",
       "2      \\nMaersk and MSC extend Golden Week vessel can...\n",
       "3      \\nAsia – Pacific offshore wind developments fa...\n",
       "4      \\nUp to $12 billion investment needed for offs...\n",
       "                             ...                        \n",
       "518    Battle for work-life balance continues, as wor...\n",
       "519    Shipping's EU ETS costs could triple due to Re...\n",
       "520      Winds of change sweep across UK’s energy sector\n",
       "521    EU’s ties to Russian gas: LNG tanker routes pi...\n",
       "522    Tekmar says 2023 pivotal year, despite instabi...\n",
       "Name: Title, Length: 523, dtype: object"
      ]
     },
     "execution_count": 88,
     "metadata": {},
     "output_type": "execute_result"
    }
   ],
   "source": [
    "# Check unique titles\n",
    "unique_df = combined_df.drop_duplicates(subset='Title', keep='first')\n",
    "unique_df['Title']"
   ]
  },
  {
   "cell_type": "code",
   "execution_count": 65,
   "id": "436b5977",
   "metadata": {},
   "outputs": [
    {
     "name": "stderr",
     "output_type": "stream",
     "text": [
      "C:\\Users\\Dishan\\AppData\\Local\\Temp\\ipykernel_8396\\725188877.py:2: SettingWithCopyWarning: \n",
      "A value is trying to be set on a copy of a slice from a DataFrame\n",
      "\n",
      "See the caveats in the documentation: https://pandas.pydata.org/pandas-docs/stable/user_guide/indexing.html#returning-a-view-versus-a-copy\n",
      "  unique_df.drop_duplicates(subset='Description', keep='first', inplace=True)\n"
     ]
    },
    {
     "data": {
      "text/html": [
       "<div>\n",
       "<style scoped>\n",
       "    .dataframe tbody tr th:only-of-type {\n",
       "        vertical-align: middle;\n",
       "    }\n",
       "\n",
       "    .dataframe tbody tr th {\n",
       "        vertical-align: top;\n",
       "    }\n",
       "\n",
       "    .dataframe thead th {\n",
       "        text-align: right;\n",
       "    }\n",
       "</style>\n",
       "<table border=\"1\" class=\"dataframe\">\n",
       "  <thead>\n",
       "    <tr style=\"text-align: right;\">\n",
       "      <th></th>\n",
       "      <th>Date</th>\n",
       "      <th>Title</th>\n",
       "      <th>Description</th>\n",
       "    </tr>\n",
       "  </thead>\n",
       "  <tbody>\n",
       "    <tr>\n",
       "      <th>0</th>\n",
       "      <td>2023-09-06</td>\n",
       "      <td>\\nMawei Shipyard bags PCTC pair from Neptune L...</td>\n",
       "      <td>NaN</td>\n",
       "    </tr>\n",
       "    <tr>\n",
       "      <th>13</th>\n",
       "      <td>2023-09-06</td>\n",
       "      <td>\\n Hong Kong port container volumes plunge in Q2</td>\n",
       "      <td>\\nThe Asian container port of Hong Kong saw a ...</td>\n",
       "    </tr>\n",
       "    <tr>\n",
       "      <th>14</th>\n",
       "      <td>2023-09-06</td>\n",
       "      <td>\\nMaersk and MSC extend Golden Week vessel can...</td>\n",
       "      <td>\\nBoth MSC and Maersk have extended the 2M all...</td>\n",
       "    </tr>\n",
       "    <tr>\n",
       "      <th>15</th>\n",
       "      <td>2023-09-06</td>\n",
       "      <td>\\nAsia – Pacific offshore wind developments fa...</td>\n",
       "      <td>\\nWith some 5,000 offshore wind farms forecast...</td>\n",
       "    </tr>\n",
       "    <tr>\n",
       "      <th>16</th>\n",
       "      <td>2023-09-06</td>\n",
       "      <td>\\nUp to $12 billion investment needed for offs...</td>\n",
       "      <td>\\nA likely 300-fold increase in global offshor...</td>\n",
       "    </tr>\n",
       "    <tr>\n",
       "      <th>...</th>\n",
       "      <td>...</td>\n",
       "      <td>...</td>\n",
       "      <td>...</td>\n",
       "    </tr>\n",
       "    <tr>\n",
       "      <th>2624</th>\n",
       "      <td>2024-03-12</td>\n",
       "      <td>Battle for work-life balance continues, as wor...</td>\n",
       "      <td>As the crusade for a better work and life bala...</td>\n",
       "    </tr>\n",
       "    <tr>\n",
       "      <th>2625</th>\n",
       "      <td>2024-03-12</td>\n",
       "      <td>Shipping's EU ETS costs could triple due to Re...</td>\n",
       "      <td>The Red Sea shipping crisis could result in ne...</td>\n",
       "    </tr>\n",
       "    <tr>\n",
       "      <th>2626</th>\n",
       "      <td>2024-03-11</td>\n",
       "      <td>Winds of change sweep across UK’s energy sector</td>\n",
       "      <td>As the push for stronger climate action gains ...</td>\n",
       "    </tr>\n",
       "    <tr>\n",
       "      <th>2627</th>\n",
       "      <td>2024-03-07</td>\n",
       "      <td>EU’s ties to Russian gas: LNG tanker routes pi...</td>\n",
       "      <td>Since the Ukraine crisis took the world by sto...</td>\n",
       "    </tr>\n",
       "    <tr>\n",
       "      <th>2628</th>\n",
       "      <td>2024-03-07</td>\n",
       "      <td>Tekmar says 2023 pivotal year, despite instabi...</td>\n",
       "      <td>Tekmar Group has reported improved financial p...</td>\n",
       "    </tr>\n",
       "  </tbody>\n",
       "</table>\n",
       "<p>523 rows × 3 columns</p>\n",
       "</div>"
      ],
      "text/plain": [
       "            Date                                              Title  \\\n",
       "0     2023-09-06  \\nMawei Shipyard bags PCTC pair from Neptune L...   \n",
       "13    2023-09-06  \\n Hong Kong port container volumes plunge in Q2    \n",
       "14    2023-09-06  \\nMaersk and MSC extend Golden Week vessel can...   \n",
       "15    2023-09-06  \\nAsia – Pacific offshore wind developments fa...   \n",
       "16    2023-09-06  \\nUp to $12 billion investment needed for offs...   \n",
       "...          ...                                                ...   \n",
       "2624  2024-03-12  Battle for work-life balance continues, as wor...   \n",
       "2625  2024-03-12  Shipping's EU ETS costs could triple due to Re...   \n",
       "2626  2024-03-11    Winds of change sweep across UK’s energy sector   \n",
       "2627  2024-03-07  EU’s ties to Russian gas: LNG tanker routes pi...   \n",
       "2628  2024-03-07  Tekmar says 2023 pivotal year, despite instabi...   \n",
       "\n",
       "                                            Description  \n",
       "0                                                   NaN  \n",
       "13    \\nThe Asian container port of Hong Kong saw a ...  \n",
       "14    \\nBoth MSC and Maersk have extended the 2M all...  \n",
       "15    \\nWith some 5,000 offshore wind farms forecast...  \n",
       "16    \\nA likely 300-fold increase in global offshor...  \n",
       "...                                                 ...  \n",
       "2624  As the crusade for a better work and life bala...  \n",
       "2625  The Red Sea shipping crisis could result in ne...  \n",
       "2626  As the push for stronger climate action gains ...  \n",
       "2627  Since the Ukraine crisis took the world by sto...  \n",
       "2628  Tekmar Group has reported improved financial p...  \n",
       "\n",
       "[523 rows x 3 columns]"
      ]
     },
     "execution_count": 65,
     "metadata": {},
     "output_type": "execute_result"
    }
   ],
   "source": [
    "# Remove duplicate descriptions\n",
    "unique_df.drop_duplicates(subset='Description', keep='first', inplace=True)\n",
    "unique_df"
   ]
  },
  {
   "cell_type": "code",
   "execution_count": 89,
   "id": "8ab5c11a",
   "metadata": {},
   "outputs": [
    {
     "data": {
      "text/plain": [
       "Date           0\n",
       "Title          0\n",
       "Description    1\n",
       "dtype: int64"
      ]
     },
     "execution_count": 89,
     "metadata": {},
     "output_type": "execute_result"
    }
   ],
   "source": [
    "unique_df.isna().sum()"
   ]
  },
  {
   "cell_type": "code",
   "execution_count": 91,
   "id": "46e34035",
   "metadata": {},
   "outputs": [],
   "source": [
    "# Save the filtered DataFrame to an Excel file\n",
    "unique_df.to_excel(\"raw_news.xlsx\", index=False)"
   ]
  },
  {
   "cell_type": "markdown",
   "id": "b88e93f3",
   "metadata": {},
   "source": [
    "<font size=\"6\"> Analysis using textblob</font> "
   ]
  },
  {
   "cell_type": "code",
   "execution_count": null,
   "id": "1f0e524b",
   "metadata": {},
   "outputs": [],
   "source": [
    "!pip install textblob"
   ]
  },
  {
   "cell_type": "code",
   "execution_count": 39,
   "id": "39ed6382",
   "metadata": {},
   "outputs": [
    {
     "name": "stderr",
     "output_type": "stream",
     "text": [
      "[nltk_data] Downloading package omw-1.4 to\n",
      "[nltk_data]     C:\\Users\\Dishan\\AppData\\Roaming\\nltk_data...\n",
      "[nltk_data]   Package omw-1.4 is already up-to-date!\n",
      "[nltk_data] Downloading package punkt to\n",
      "[nltk_data]     C:\\Users\\Dishan\\AppData\\Roaming\\nltk_data...\n",
      "[nltk_data]   Package punkt is already up-to-date!\n",
      "[nltk_data] Downloading package wordnet to\n",
      "[nltk_data]     C:\\Users\\Dishan\\AppData\\Roaming\\nltk_data...\n",
      "[nltk_data]   Package wordnet is already up-to-date!\n",
      "C:\\Users\\Dishan\\AppData\\Local\\Temp\\ipykernel_6560\\2126525853.py:25: SettingWithCopyWarning: \n",
      "A value is trying to be set on a copy of a slice from a DataFrame.\n",
      "Try using .loc[row_indexer,col_indexer] = value instead\n",
      "\n",
      "See the caveats in the documentation: https://pandas.pydata.org/pandas-docs/stable/user_guide/indexing.html#returning-a-view-versus-a-copy\n",
      "  filtered_df['Title'] = filtered_df['Title'].apply(tokenize_and_lemmatize)\n",
      "C:\\Users\\Dishan\\AppData\\Local\\Temp\\ipykernel_6560\\2126525853.py:26: SettingWithCopyWarning: \n",
      "A value is trying to be set on a copy of a slice from a DataFrame.\n",
      "Try using .loc[row_indexer,col_indexer] = value instead\n",
      "\n",
      "See the caveats in the documentation: https://pandas.pydata.org/pandas-docs/stable/user_guide/indexing.html#returning-a-view-versus-a-copy\n",
      "  filtered_df['Description'] = filtered_df['Description'].apply(tokenize_and_lemmatize)\n"
     ]
    }
   ],
   "source": [
    "import nltk\n",
    "from nltk.tokenize import word_tokenize\n",
    "from nltk.stem import WordNetLemmatizer\n",
    "from textblob import TextBlob\n",
    "\n",
    "nltk.download('omw-1.4')\n",
    "\n",
    "# Download necessary resources for NLTK\n",
    "nltk.download('punkt')\n",
    "nltk.download('wordnet')\n",
    "\n",
    "# Initialize the lemmatizer\n",
    "lemmatizer = WordNetLemmatizer()\n",
    "\n",
    "# Function to tokenize and lemmatize text\n",
    "def tokenize_and_lemmatize(text):\n",
    "    if isinstance(text, str):  # Check if the text is not NaN or missing\n",
    "        words = word_tokenize(text.lower())\n",
    "        lemmatized_words = [lemmatizer.lemmatize(word) for word in words]\n",
    "        return lemmatized_words\n",
    "    else:\n",
    "        return []\n",
    "\n",
    "# Tokenize and lemmatize the 'Title' and 'Description' columns\n",
    "filtered_df['Title'] = filtered_df['Title'].apply(tokenize_and_lemmatize)\n",
    "filtered_df['Description'] = filtered_df['Description'].apply(tokenize_and_lemmatize)\n",
    "\n",
    "# # Perform Sentiment Analysis using TextBlob\n",
    "# filtered_df['TitleSentiment'] = filtered_df['Title'].apply(lambda x: TextBlob(\" \".join(x)).sentiment.polarity)\n",
    "# filtered_df['DescriptionSentiment'] = filtered_df['Description'].apply(lambda x: TextBlob(\" \".join(x)).sentiment.polarity)\n"
   ]
  },
  {
   "cell_type": "code",
   "execution_count": 40,
   "id": "48c2b440",
   "metadata": {},
   "outputs": [
    {
     "data": {
      "text/html": [
       "<div>\n",
       "<style scoped>\n",
       "    .dataframe tbody tr th:only-of-type {\n",
       "        vertical-align: middle;\n",
       "    }\n",
       "\n",
       "    .dataframe tbody tr th {\n",
       "        vertical-align: top;\n",
       "    }\n",
       "\n",
       "    .dataframe thead th {\n",
       "        text-align: right;\n",
       "    }\n",
       "</style>\n",
       "<table border=\"1\" class=\"dataframe\">\n",
       "  <thead>\n",
       "    <tr style=\"text-align: right;\">\n",
       "      <th></th>\n",
       "      <th>Date</th>\n",
       "      <th>Title</th>\n",
       "      <th>Description</th>\n",
       "    </tr>\n",
       "  </thead>\n",
       "  <tbody>\n",
       "    <tr>\n",
       "      <th>9</th>\n",
       "      <td>2023-09-06</td>\n",
       "      <td>[mawei, shipyard, bag, pctc, pair, from, neptu...</td>\n",
       "      <td>[china, ’, s, fujian, mawei, shipbuilding, ann...</td>\n",
       "    </tr>\n",
       "    <tr>\n",
       "      <th>13</th>\n",
       "      <td>2023-09-06</td>\n",
       "      <td>[hong, kong, port, container, volume, plunge, ...</td>\n",
       "      <td>[the, asian, container, port, of, hong, kong, ...</td>\n",
       "    </tr>\n",
       "    <tr>\n",
       "      <th>14</th>\n",
       "      <td>2023-09-06</td>\n",
       "      <td>[maersk, and, msc, extend, golden, week, vesse...</td>\n",
       "      <td>[both, msc, and, maersk, have, extended, the, ...</td>\n",
       "    </tr>\n",
       "    <tr>\n",
       "      <th>19</th>\n",
       "      <td>2023-09-06</td>\n",
       "      <td>[sipg, container, volume, up, 5.3, %, in, h1, ...</td>\n",
       "      <td>[shanghai, international, port, group, (, sipg...</td>\n",
       "    </tr>\n",
       "    <tr>\n",
       "      <th>21</th>\n",
       "      <td>2023-09-06</td>\n",
       "      <td>[cosco, shipping, launch, china, –, greece, do...</td>\n",
       "      <td>[cosco, shipping, ha, launched, a, door-to-doo...</td>\n",
       "    </tr>\n",
       "    <tr>\n",
       "      <th>...</th>\n",
       "      <td>...</td>\n",
       "      <td>...</td>\n",
       "      <td>...</td>\n",
       "    </tr>\n",
       "    <tr>\n",
       "      <th>2596</th>\n",
       "      <td>2023-09-14</td>\n",
       "      <td>[container, line, blank, sailing, surge, for, ...</td>\n",
       "      <td>[the, number, of, blank, sailing, by, containe...</td>\n",
       "    </tr>\n",
       "    <tr>\n",
       "      <th>2601</th>\n",
       "      <td>2023-09-14</td>\n",
       "      <td>[msc, pay, a, premium, for, 49.9, %, stake, in...</td>\n",
       "      <td>[port, of, hamburg, terminal, operator, hhla, ...</td>\n",
       "    </tr>\n",
       "    <tr>\n",
       "      <th>2627</th>\n",
       "      <td>2023-09-19</td>\n",
       "      <td>[hmm, aim, for, 5, –, 10, %, biofuel, usage, a...</td>\n",
       "      <td>[korean, container, line, hmm, plan, to, expan...</td>\n",
       "    </tr>\n",
       "    <tr>\n",
       "      <th>2628</th>\n",
       "      <td>2023-09-19</td>\n",
       "      <td>[seatrade, return, to, huanghai, shipyard, for...</td>\n",
       "      <td>[rotterdam-based, reefer, specialist, shipping...</td>\n",
       "    </tr>\n",
       "    <tr>\n",
       "      <th>2630</th>\n",
       "      <td>2023-09-19</td>\n",
       "      <td>[china, ’, s, silk, road, maritime, expands, t...</td>\n",
       "      <td>[china, ’, s, international, shipping, associa...</td>\n",
       "    </tr>\n",
       "  </tbody>\n",
       "</table>\n",
       "<p>240 rows × 3 columns</p>\n",
       "</div>"
      ],
      "text/plain": [
       "            Date                                              Title  \\\n",
       "9     2023-09-06  [mawei, shipyard, bag, pctc, pair, from, neptu...   \n",
       "13    2023-09-06  [hong, kong, port, container, volume, plunge, ...   \n",
       "14    2023-09-06  [maersk, and, msc, extend, golden, week, vesse...   \n",
       "19    2023-09-06  [sipg, container, volume, up, 5.3, %, in, h1, ...   \n",
       "21    2023-09-06  [cosco, shipping, launch, china, –, greece, do...   \n",
       "...          ...                                                ...   \n",
       "2596  2023-09-14  [container, line, blank, sailing, surge, for, ...   \n",
       "2601  2023-09-14  [msc, pay, a, premium, for, 49.9, %, stake, in...   \n",
       "2627  2023-09-19  [hmm, aim, for, 5, –, 10, %, biofuel, usage, a...   \n",
       "2628  2023-09-19  [seatrade, return, to, huanghai, shipyard, for...   \n",
       "2630  2023-09-19  [china, ’, s, silk, road, maritime, expands, t...   \n",
       "\n",
       "                                            Description  \n",
       "9     [china, ’, s, fujian, mawei, shipbuilding, ann...  \n",
       "13    [the, asian, container, port, of, hong, kong, ...  \n",
       "14    [both, msc, and, maersk, have, extended, the, ...  \n",
       "19    [shanghai, international, port, group, (, sipg...  \n",
       "21    [cosco, shipping, ha, launched, a, door-to-doo...  \n",
       "...                                                 ...  \n",
       "2596  [the, number, of, blank, sailing, by, containe...  \n",
       "2601  [port, of, hamburg, terminal, operator, hhla, ...  \n",
       "2627  [korean, container, line, hmm, plan, to, expan...  \n",
       "2628  [rotterdam-based, reefer, specialist, shipping...  \n",
       "2630  [china, ’, s, international, shipping, associa...  \n",
       "\n",
       "[240 rows x 3 columns]"
      ]
     },
     "execution_count": 40,
     "metadata": {},
     "output_type": "execute_result"
    }
   ],
   "source": [
    "filtered_df"
   ]
  },
  {
   "cell_type": "code",
   "execution_count": null,
   "id": "fd6ede01",
   "metadata": {},
   "outputs": [],
   "source": [
    "# #DataFrame with the sentiment polarity scores \n",
    "# print(filtered_df[['Title', 'TitleSentiment', 'Description', 'DescriptionSentiment']])\n"
   ]
  },
  {
   "cell_type": "code",
   "execution_count": null,
   "id": "fe4fd8c8",
   "metadata": {},
   "outputs": [],
   "source": [
    "# data = filtered_df[['Title', 'TitleSentiment', 'Description', 'DescriptionSentiment']]\n",
    "\n",
    "# output_file = 'analysis.xlsx'\n",
    "# data.to_excel(output_file, index=False)"
   ]
  },
  {
   "cell_type": "code",
   "execution_count": null,
   "id": "8fea63ec",
   "metadata": {},
   "outputs": [],
   "source": [
    "# #summary statistics of the sentiment polarity scores\n",
    "\n",
    "# title_sentiment_stats = filtered_df['TitleSentiment'].describe()\n",
    "# description_sentiment_stats = filtered_df['DescriptionSentiment'].describe()\n",
    "\n",
    "# print(\"Title Sentiment Summary:\")\n",
    "# print(title_sentiment_stats)\n",
    "\n",
    "# print(\"\\nDescription Sentiment Summary:\")\n",
    "# print(description_sentiment_stats)\n"
   ]
  },
  {
   "cell_type": "code",
   "execution_count": null,
   "id": "a4164649",
   "metadata": {},
   "outputs": [],
   "source": [
    "# import matplotlib.pyplot as plt\n",
    "\n",
    "# plt.figure(figsize=(8, 6))\n",
    "# plt.hist(filtered_df['TitleSentiment'], bins=20, alpha=0.5, label='Title Sentiment')\n",
    "# plt.hist(filtered_df['DescriptionSentiment'], bins=20, alpha=0.5, label='Description Sentiment')\n",
    "# plt.xlabel('Sentiment Polarity')\n",
    "# plt.ylabel('Frequency')\n",
    "# plt.legend()\n",
    "# plt.title('Sentiment Polarity Distribution')\n",
    "# plt.show()\n"
   ]
  },
  {
   "cell_type": "markdown",
   "id": "bc5abaee",
   "metadata": {},
   "source": [
    "<font size=\"6\"> Analysis using Similarity matrix</font> "
   ]
  },
  {
   "cell_type": "code",
   "execution_count": 71,
   "id": "9561fa40",
   "metadata": {},
   "outputs": [
    {
     "name": "stdout",
     "output_type": "stream",
     "text": [
      "9       [mawei, shipyard, bag, pctc, pair, from, neptu...\n",
      "13      [hong, kong, port, container, volume, plunge, ...\n",
      "14      [maersk, and, msc, extend, golden, week, vesse...\n",
      "19      [sipg, container, volume, up, 5.3, %, in, h1, ...\n",
      "21      [cosco, shipping, launch, china, –, greece, do...\n",
      "                              ...                        \n",
      "2215    [u.s., oil, and, gas, giant, ’, profit, skyroc...\n",
      "2555    [cosco, shipping, launch, multipurpose, servic...\n",
      "2557    [dp, world, seek, growth, in, indonesia, an, e...\n",
      "2596    [container, line, blank, sailing, surge, for, ...\n",
      "2601    [msc, pay, a, premium, for, 49.9, %, stake, in...\n",
      "Name: Title, Length: 237, dtype: object\n",
      "\n",
      "9       [china, ’, s, fujian, mawei, shipbuilding, ann...\n",
      "13      [the, asian, container, port, of, hong, kong, ...\n",
      "14      [both, msc, and, maersk, have, extended, the, ...\n",
      "19      [shanghai, international, port, group, (, sipg...\n",
      "21      [cosco, shipping, ha, launched, a, door-to-doo...\n",
      "                              ...                        \n",
      "2215    [u.s., oil, and, gas, major, chevron, and, exx...\n",
      "2555    [cosco, shipping, specialized, carrier, ha, la...\n",
      "2557    [dp, world, see, indonesia, a, an, important, ...\n",
      "2596    [the, number, of, blank, sailing, by, containe...\n",
      "2601    [port, of, hamburg, terminal, operator, hhla, ...\n",
      "Name: Description, Length: 237, dtype: object\n"
     ]
    }
   ],
   "source": [
    "# Print the outcome\n",
    "print(filtered_df['Title'])\n",
    "print()\n",
    "print(filtered_df['Description'])\n"
   ]
  },
  {
   "cell_type": "code",
   "execution_count": 41,
   "id": "4e8deb1e",
   "metadata": {},
   "outputs": [
    {
     "name": "stderr",
     "output_type": "stream",
     "text": [
      "C:\\Users\\Dishan\\AppData\\Local\\Temp\\ipykernel_6560\\666091378.py:20: SettingWithCopyWarning: \n",
      "A value is trying to be set on a copy of a slice from a DataFrame.\n",
      "Try using .loc[row_indexer,col_indexer] = value instead\n",
      "\n",
      "See the caveats in the documentation: https://pandas.pydata.org/pandas-docs/stable/user_guide/indexing.html#returning-a-view-versus-a-copy\n",
      "  filtered_df['Risk'] = filtered_df['Description'].apply(contains_risk_port_vessel_keywords)\n"
     ]
    },
    {
     "data": {
      "text/html": [
       "<div>\n",
       "<style scoped>\n",
       "    .dataframe tbody tr th:only-of-type {\n",
       "        vertical-align: middle;\n",
       "    }\n",
       "\n",
       "    .dataframe tbody tr th {\n",
       "        vertical-align: top;\n",
       "    }\n",
       "\n",
       "    .dataframe thead th {\n",
       "        text-align: right;\n",
       "    }\n",
       "</style>\n",
       "<table border=\"1\" class=\"dataframe\">\n",
       "  <thead>\n",
       "    <tr style=\"text-align: right;\">\n",
       "      <th></th>\n",
       "      <th>Title</th>\n",
       "      <th>Description</th>\n",
       "      <th>Risk</th>\n",
       "    </tr>\n",
       "  </thead>\n",
       "  <tbody>\n",
       "    <tr>\n",
       "      <th>9</th>\n",
       "      <td>[mawei, shipyard, bag, pctc, pair, from, neptu...</td>\n",
       "      <td>[china, ’, s, fujian, mawei, shipbuilding, ann...</td>\n",
       "      <td>False</td>\n",
       "    </tr>\n",
       "    <tr>\n",
       "      <th>13</th>\n",
       "      <td>[hong, kong, port, container, volume, plunge, ...</td>\n",
       "      <td>[the, asian, container, port, of, hong, kong, ...</td>\n",
       "      <td>False</td>\n",
       "    </tr>\n",
       "    <tr>\n",
       "      <th>14</th>\n",
       "      <td>[maersk, and, msc, extend, golden, week, vesse...</td>\n",
       "      <td>[both, msc, and, maersk, have, extended, the, ...</td>\n",
       "      <td>False</td>\n",
       "    </tr>\n",
       "    <tr>\n",
       "      <th>19</th>\n",
       "      <td>[sipg, container, volume, up, 5.3, %, in, h1, ...</td>\n",
       "      <td>[shanghai, international, port, group, (, sipg...</td>\n",
       "      <td>False</td>\n",
       "    </tr>\n",
       "    <tr>\n",
       "      <th>21</th>\n",
       "      <td>[cosco, shipping, launch, china, –, greece, do...</td>\n",
       "      <td>[cosco, shipping, ha, launched, a, door-to-doo...</td>\n",
       "      <td>False</td>\n",
       "    </tr>\n",
       "    <tr>\n",
       "      <th>...</th>\n",
       "      <td>...</td>\n",
       "      <td>...</td>\n",
       "      <td>...</td>\n",
       "    </tr>\n",
       "    <tr>\n",
       "      <th>2596</th>\n",
       "      <td>[container, line, blank, sailing, surge, for, ...</td>\n",
       "      <td>[the, number, of, blank, sailing, by, containe...</td>\n",
       "      <td>False</td>\n",
       "    </tr>\n",
       "    <tr>\n",
       "      <th>2601</th>\n",
       "      <td>[msc, pay, a, premium, for, 49.9, %, stake, in...</td>\n",
       "      <td>[port, of, hamburg, terminal, operator, hhla, ...</td>\n",
       "      <td>False</td>\n",
       "    </tr>\n",
       "    <tr>\n",
       "      <th>2627</th>\n",
       "      <td>[hmm, aim, for, 5, –, 10, %, biofuel, usage, a...</td>\n",
       "      <td>[korean, container, line, hmm, plan, to, expan...</td>\n",
       "      <td>False</td>\n",
       "    </tr>\n",
       "    <tr>\n",
       "      <th>2628</th>\n",
       "      <td>[seatrade, return, to, huanghai, shipyard, for...</td>\n",
       "      <td>[rotterdam-based, reefer, specialist, shipping...</td>\n",
       "      <td>False</td>\n",
       "    </tr>\n",
       "    <tr>\n",
       "      <th>2630</th>\n",
       "      <td>[china, ’, s, silk, road, maritime, expands, t...</td>\n",
       "      <td>[china, ’, s, international, shipping, associa...</td>\n",
       "      <td>False</td>\n",
       "    </tr>\n",
       "  </tbody>\n",
       "</table>\n",
       "<p>240 rows × 3 columns</p>\n",
       "</div>"
      ],
      "text/plain": [
       "                                                  Title  \\\n",
       "9     [mawei, shipyard, bag, pctc, pair, from, neptu...   \n",
       "13    [hong, kong, port, container, volume, plunge, ...   \n",
       "14    [maersk, and, msc, extend, golden, week, vesse...   \n",
       "19    [sipg, container, volume, up, 5.3, %, in, h1, ...   \n",
       "21    [cosco, shipping, launch, china, –, greece, do...   \n",
       "...                                                 ...   \n",
       "2596  [container, line, blank, sailing, surge, for, ...   \n",
       "2601  [msc, pay, a, premium, for, 49.9, %, stake, in...   \n",
       "2627  [hmm, aim, for, 5, –, 10, %, biofuel, usage, a...   \n",
       "2628  [seatrade, return, to, huanghai, shipyard, for...   \n",
       "2630  [china, ’, s, silk, road, maritime, expands, t...   \n",
       "\n",
       "                                            Description   Risk  \n",
       "9     [china, ’, s, fujian, mawei, shipbuilding, ann...  False  \n",
       "13    [the, asian, container, port, of, hong, kong, ...  False  \n",
       "14    [both, msc, and, maersk, have, extended, the, ...  False  \n",
       "19    [shanghai, international, port, group, (, sipg...  False  \n",
       "21    [cosco, shipping, ha, launched, a, door-to-doo...  False  \n",
       "...                                                 ...    ...  \n",
       "2596  [the, number, of, blank, sailing, by, containe...  False  \n",
       "2601  [port, of, hamburg, terminal, operator, hhla, ...  False  \n",
       "2627  [korean, container, line, hmm, plan, to, expan...  False  \n",
       "2628  [rotterdam-based, reefer, specialist, shipping...  False  \n",
       "2630  [china, ’, s, international, shipping, associa...  False  \n",
       "\n",
       "[240 rows x 3 columns]"
      ]
     },
     "execution_count": 41,
     "metadata": {},
     "output_type": "execute_result"
    }
   ],
   "source": [
    "# Step 1: Define a list of keywords related to risks, ports, and vessels\n",
    "risk_keywords = ['risk','incident','closed', 'danger', 'hazard', 'unsafe', 'accident', 'incident', 'emergency', 'threat']\n",
    "port_keywords = ['port', 'harbor', 'terminal', 'dock']\n",
    "vessel_keywords = ['vessel', 'ship', 'boat']\n",
    "\n",
    "# Step 2: Check if the news description contains keywords related to risks, ports, or vessels\n",
    "def contains_risk_port_vessel_keywords(lemmatized_description):\n",
    "    # Combine the lemmatized words into a single string\n",
    "    description_text = ' '.join(lemmatized_description)\n",
    "\n",
    "    # Check if any of the keywords related to risks, ports, or vessels are present\n",
    "    has_risk_keyword = any(keyword in description_text for keyword in risk_keywords)\n",
    "    has_port_keyword = any(keyword in description_text for keyword in port_keywords)\n",
    "    has_vessel_keyword = any(keyword in description_text for keyword in vessel_keywords)\n",
    "\n",
    "    # Return True if any of the keywords related to risks, ports, or vessels are present\n",
    "    return has_risk_keyword and (has_port_keyword or has_vessel_keyword)\n",
    "\n",
    "# Apply the function to the 'Description' column to check for risk-related news about ports or vessels\n",
    "filtered_df['Risk'] = filtered_df['Description'].apply(contains_risk_port_vessel_keywords)\n",
    "\n",
    "#  True for news articles that contain keywords related to risks about ports or vessels.\n",
    "\n",
    "#  check the  column to determine which news articles are considered\n",
    "# to be risks related to ports or vessels.\n",
    "filtered_df[['Title', 'Description', 'Risk']]"
   ]
  },
  {
   "cell_type": "code",
   "execution_count": 44,
   "id": "7c9784ce",
   "metadata": {},
   "outputs": [
    {
     "name": "stdout",
     "output_type": "stream",
     "text": [
      "<class 'pandas.core.frame.DataFrame'>\n",
      "Int64Index: 240 entries, 9 to 2630\n",
      "Data columns (total 4 columns):\n",
      " #   Column       Non-Null Count  Dtype \n",
      "---  ------       --------------  ----- \n",
      " 0   Date         240 non-null    object\n",
      " 1   Title        240 non-null    object\n",
      " 2   Description  240 non-null    object\n",
      " 3   Risk         240 non-null    bool  \n",
      "dtypes: bool(1), object(3)\n",
      "memory usage: 7.7+ KB\n"
     ]
    }
   ],
   "source": [
    "filtered_df.info()"
   ]
  },
  {
   "cell_type": "code",
   "execution_count": 42,
   "id": "522d700b",
   "metadata": {},
   "outputs": [],
   "source": [
    "output_file='risk.xlsx'\n",
    "filtered_df.to_excel(output_file, index=False)"
   ]
  },
  {
   "cell_type": "markdown",
   "id": "9b230bc8",
   "metadata": {},
   "source": [
    "# XGBoost Model"
   ]
  },
  {
   "cell_type": "code",
   "execution_count": 57,
   "id": "47cdc173",
   "metadata": {},
   "outputs": [
    {
     "data": {
      "text/html": [
       "<div>\n",
       "<style scoped>\n",
       "    .dataframe tbody tr th:only-of-type {\n",
       "        vertical-align: middle;\n",
       "    }\n",
       "\n",
       "    .dataframe tbody tr th {\n",
       "        vertical-align: top;\n",
       "    }\n",
       "\n",
       "    .dataframe thead th {\n",
       "        text-align: right;\n",
       "    }\n",
       "</style>\n",
       "<table border=\"1\" class=\"dataframe\">\n",
       "  <thead>\n",
       "    <tr style=\"text-align: right;\">\n",
       "      <th></th>\n",
       "      <th>Date</th>\n",
       "      <th>Title</th>\n",
       "      <th>Description</th>\n",
       "      <th>Risk</th>\n",
       "    </tr>\n",
       "  </thead>\n",
       "  <tbody>\n",
       "    <tr>\n",
       "      <th>0</th>\n",
       "      <td>2023-09-06</td>\n",
       "      <td>['mawei', 'shipyard', 'bag', 'pctc', 'pair', '...</td>\n",
       "      <td>['china', '’', 's', 'fujian', 'mawei', 'shipbu...</td>\n",
       "      <td>False</td>\n",
       "    </tr>\n",
       "    <tr>\n",
       "      <th>1</th>\n",
       "      <td>2023-09-06</td>\n",
       "      <td>['hong', 'kong', 'port', 'container', 'volume'...</td>\n",
       "      <td>['the', 'asian', 'container', 'port', 'of', 'h...</td>\n",
       "      <td>False</td>\n",
       "    </tr>\n",
       "    <tr>\n",
       "      <th>2</th>\n",
       "      <td>2023-09-06</td>\n",
       "      <td>['maersk', 'and', 'msc', 'extend', 'golden', '...</td>\n",
       "      <td>['both', 'msc', 'and', 'maersk', 'have', 'exte...</td>\n",
       "      <td>False</td>\n",
       "    </tr>\n",
       "    <tr>\n",
       "      <th>3</th>\n",
       "      <td>2023-09-06</td>\n",
       "      <td>['sipg', 'container', 'volume', 'up', '5.3', '...</td>\n",
       "      <td>['shanghai', 'international', 'port', 'group',...</td>\n",
       "      <td>False</td>\n",
       "    </tr>\n",
       "    <tr>\n",
       "      <th>4</th>\n",
       "      <td>2023-09-06</td>\n",
       "      <td>['cosco', 'shipping', 'launch', 'china', '–', ...</td>\n",
       "      <td>['cosco', 'shipping', 'ha', 'launched', 'a', '...</td>\n",
       "      <td>False</td>\n",
       "    </tr>\n",
       "    <tr>\n",
       "      <th>...</th>\n",
       "      <td>...</td>\n",
       "      <td>...</td>\n",
       "      <td>...</td>\n",
       "      <td>...</td>\n",
       "    </tr>\n",
       "    <tr>\n",
       "      <th>928</th>\n",
       "      <td>NaN</td>\n",
       "      <td>2 Long Beach Port terminals close amid labor n...</td>\n",
       "      <td>LONG BEACH, Calif. - A pair of cargo terminals...</td>\n",
       "      <td>True</td>\n",
       "    </tr>\n",
       "    <tr>\n",
       "      <th>929</th>\n",
       "      <td>NaN</td>\n",
       "      <td>Coastal Cargo lays off its workforce, shuts do...</td>\n",
       "      <td>The decision was taken to prevent any collisio...</td>\n",
       "      <td>True</td>\n",
       "    </tr>\n",
       "    <tr>\n",
       "      <th>930</th>\n",
       "      <td>NaN</td>\n",
       "      <td>Port of Seattle cargo operations continue afte...</td>\n",
       "      <td>The disruption comes after similar work slowdo...</td>\n",
       "      <td>True</td>\n",
       "    </tr>\n",
       "    <tr>\n",
       "      <th>931</th>\n",
       "      <td>NaN</td>\n",
       "      <td>LA-LB outlook darkens as labor unrest briefly ...</td>\n",
       "      <td>The Port of Los Angeles’ sales pitch to import...</td>\n",
       "      <td>True</td>\n",
       "    </tr>\n",
       "    <tr>\n",
       "      <th>932</th>\n",
       "      <td>NaN</td>\n",
       "      <td>Closure at Long Beach port resulting in trucki...</td>\n",
       "      <td>LONG BEACH, Calif. — A labor dispute at the po...</td>\n",
       "      <td>True</td>\n",
       "    </tr>\n",
       "  </tbody>\n",
       "</table>\n",
       "<p>933 rows × 4 columns</p>\n",
       "</div>"
      ],
      "text/plain": [
       "           Date                                              Title  \\\n",
       "0    2023-09-06  ['mawei', 'shipyard', 'bag', 'pctc', 'pair', '...   \n",
       "1    2023-09-06  ['hong', 'kong', 'port', 'container', 'volume'...   \n",
       "2    2023-09-06  ['maersk', 'and', 'msc', 'extend', 'golden', '...   \n",
       "3    2023-09-06  ['sipg', 'container', 'volume', 'up', '5.3', '...   \n",
       "4    2023-09-06  ['cosco', 'shipping', 'launch', 'china', '–', ...   \n",
       "..          ...                                                ...   \n",
       "928         NaN  2 Long Beach Port terminals close amid labor n...   \n",
       "929         NaN  Coastal Cargo lays off its workforce, shuts do...   \n",
       "930         NaN  Port of Seattle cargo operations continue afte...   \n",
       "931         NaN  LA-LB outlook darkens as labor unrest briefly ...   \n",
       "932         NaN  Closure at Long Beach port resulting in trucki...   \n",
       "\n",
       "                                           Description   Risk  \n",
       "0    ['china', '’', 's', 'fujian', 'mawei', 'shipbu...  False  \n",
       "1    ['the', 'asian', 'container', 'port', 'of', 'h...  False  \n",
       "2    ['both', 'msc', 'and', 'maersk', 'have', 'exte...  False  \n",
       "3    ['shanghai', 'international', 'port', 'group',...  False  \n",
       "4    ['cosco', 'shipping', 'ha', 'launched', 'a', '...  False  \n",
       "..                                                 ...    ...  \n",
       "928  LONG BEACH, Calif. - A pair of cargo terminals...   True  \n",
       "929  The decision was taken to prevent any collisio...   True  \n",
       "930  The disruption comes after similar work slowdo...   True  \n",
       "931  The Port of Los Angeles’ sales pitch to import...   True  \n",
       "932  LONG BEACH, Calif. — A labor dispute at the po...   True  \n",
       "\n",
       "[933 rows x 4 columns]"
      ]
     },
     "execution_count": 57,
     "metadata": {},
     "output_type": "execute_result"
    }
   ],
   "source": [
    "# Using the previously stored excel file to save scraping time when making changes to the script\n",
    "xgb_df = pd.read_excel('C:/Users/Dishan/Vessel tracking project/labeled_and_manual_risk.xlsx')\n",
    "xgb_df"
   ]
  },
  {
   "cell_type": "code",
   "execution_count": 59,
   "id": "ab25e257",
   "metadata": {},
   "outputs": [
    {
     "data": {
      "text/plain": [
       "Date           54\n",
       "Title           1\n",
       "Description    25\n",
       "Risk            0\n",
       "dtype: int64"
      ]
     },
     "execution_count": 59,
     "metadata": {},
     "output_type": "execute_result"
    }
   ],
   "source": [
    "xgb_df.isna().sum()"
   ]
  },
  {
   "cell_type": "code",
   "execution_count": 66,
   "id": "32f9a03a",
   "metadata": {},
   "outputs": [],
   "source": [
    "xgb_df.dropna().sum()"
   ]
  },
  {
   "cell_type": "code",
   "execution_count": 67,
   "id": "507f7b52",
   "metadata": {},
   "outputs": [
    {
     "data": {
      "text/plain": [
       "Date           0\n",
       "Title          0\n",
       "Description    0\n",
       "Risk           0\n",
       "dtype: int64"
      ]
     },
     "execution_count": 67,
     "metadata": {},
     "output_type": "execute_result"
    }
   ],
   "source": [
    "xgb_df.isna().sum()"
   ]
  },
  {
   "cell_type": "code",
   "execution_count": 60,
   "id": "ac76cbdb",
   "metadata": {},
   "outputs": [
    {
     "data": {
      "text/plain": [
       "False    801\n",
       "True     132\n",
       "Name: Risk, dtype: int64"
      ]
     },
     "execution_count": 60,
     "metadata": {},
     "output_type": "execute_result"
    }
   ],
   "source": [
    "xgb_df['Risk'].value_counts()"
   ]
  },
  {
   "cell_type": "code",
   "execution_count": 73,
   "id": "7bb20292",
   "metadata": {},
   "outputs": [
    {
     "data": {
      "text/plain": [
       "0"
      ]
     },
     "execution_count": 73,
     "metadata": {},
     "output_type": "execute_result"
    }
   ],
   "source": [
    "xgb_df['Risk'].isna().sum()"
   ]
  },
  {
   "cell_type": "code",
   "execution_count": 74,
   "id": "bb901aea",
   "metadata": {},
   "outputs": [],
   "source": [
    "# Creating the Tfidf Vectorisation model\n",
    "from sklearn.feature_extraction.text import TfidfVectorizer\n",
    "\n",
    "vec_tdidf = TfidfVectorizer()"
   ]
  },
  {
   "cell_type": "code",
   "execution_count": 75,
   "id": "7f46192b",
   "metadata": {},
   "outputs": [],
   "source": [
    "# Selecting features and target\n",
    "X_title = xgb_df['Title']\n",
    "X_description = xgb_df['Description']\n",
    "y = xgb_df['Risk']"
   ]
  },
  {
   "cell_type": "code",
   "execution_count": 76,
   "id": "1cb87777",
   "metadata": {
    "collapsed": true
   },
   "outputs": [
    {
     "name": "stdout",
     "output_type": "stream",
     "text": [
      "  (0, 964)\t0.3452878304015455\n",
      "  (0, 1077)\t0.32862262834192374\n",
      "  (0, 679)\t0.25015483583316966\n",
      "  (0, 1165)\t0.3452878304015455\n",
      "  (0, 1182)\t0.38544131554102956\n",
      "  (0, 156)\t0.38544131554102956\n",
      "  (0, 1464)\t0.35584957850736576\n",
      "  (0, 1013)\t0.408929598620892\n",
      "  (1, 1283)\t0.409167446256927\n",
      "  (1, 849)\t0.1348983013033141\n",
      "  (1, 1220)\t0.409167446256927\n",
      "  (1, 1751)\t0.36899060645798265\n",
      "  (1, 352)\t0.32881376665903833\n",
      "  (1, 1229)\t0.2604954725155216\n",
      "  (1, 926)\t0.409167446256927\n",
      "  (1, 810)\t0.409167446256927\n",
      "  (2, 264)\t0.4406641580924951\n",
      "  (2, 1744)\t0.2695678436996324\n",
      "  (2, 1776)\t0.39739460317853514\n",
      "  (2, 728)\t0.4153530910449337\n",
      "  (2, 590)\t0.39739460317853514\n",
      "  (2, 1062)\t0.3624607150435078\n",
      "  (2, 107)\t0.16444411465480727\n",
      "  (2, 994)\t0.2938800930819864\n",
      "  (3, 17)\t0.3270613647854302\n",
      "  :\t:\n",
      "  (852, 549)\t0.3585153680575845\n",
      "  (852, 653)\t0.17650093128548708\n",
      "  (852, 1718)\t0.24728102889402362\n",
      "  (852, 107)\t0.18206481311033662\n",
      "  (852, 1077)\t0.3920706488360423\n",
      "  (853, 465)\t0.3819946769288293\n",
      "  (853, 1365)\t0.3819946769288293\n",
      "  (853, 1112)\t0.3819946769288293\n",
      "  (853, 137)\t0.3819946769288293\n",
      "  (853, 1381)\t0.2766944437233581\n",
      "  (853, 394)\t0.30697727718495\n",
      "  (853, 1693)\t0.32254479418100057\n",
      "  (853, 719)\t0.22711063955994304\n",
      "  (853, 1124)\t0.17540446081333855\n",
      "  (853, 1229)\t0.2431959941468701\n",
      "  (854, 155)\t0.36166903746275364\n",
      "  (854, 497)\t0.36166903746275364\n",
      "  (854, 1477)\t0.36166903746275364\n",
      "  (854, 140)\t0.36166903746275364\n",
      "  (854, 1598)\t0.36166903746275364\n",
      "  (854, 1775)\t0.3408953278516232\n",
      "  (854, 1232)\t0.314723548929506\n",
      "  (854, 90)\t0.25513036403230266\n",
      "  (854, 1651)\t0.11228445374917066\n",
      "  (854, 1229)\t0.23025572456938562\n",
      "  (0, 9337)\t0.10608527306983401\n",
      "  (0, 10534)\t0.2576447508475276\n",
      "  (0, 2250)\t0.08868172916844856\n",
      "  (0, 7217)\t0.28044534357842804\n",
      "  (0, 6806)\t0.05951085775987649\n",
      "  (0, 11097)\t0.13673538225304996\n",
      "  (0, 11503)\t0.3041189041478604\n",
      "  (0, 3108)\t0.18427036893706247\n",
      "  (0, 15961)\t0.2971249493799722\n",
      "  (0, 3076)\t0.23341398440772615\n",
      "  (0, 12351)\t0.26781403281354316\n",
      "  (0, 3242)\t0.3334298207142894\n",
      "  (0, 303)\t0.15356836110074484\n",
      "  (0, 16049)\t0.08148929022429234\n",
      "  (0, 1692)\t0.12008362907531242\n",
      "  (0, 14029)\t0.1680760584734172\n",
      "  (0, 9821)\t0.36973469204860665\n",
      "  (0, 6843)\t0.36973469204860665\n",
      "  (0, 3355)\t0.1233007630000182\n",
      "  (1, 17241)\t0.09769528462451033\n",
      "  (1, 15539)\t0.07493668047608716\n",
      "  (1, 12416)\t0.19875662721919504\n",
      "  (1, 13781)\t0.1595392441354945\n",
      "  (1, 16709)\t0.25778335250025386\n",
      "  (1, 2706)\t0.3485216042925572\n",
      "  :\t:\n",
      "  (853, 11882)\t0.09236639314314346\n",
      "  (853, 15494)\t0.035441931335374904\n",
      "  (854, 17159)\t0.38922922142628685\n",
      "  (854, 6055)\t0.38922922142628685\n",
      "  (854, 15328)\t0.38922922142628685\n",
      "  (854, 3820)\t0.16678738281138117\n",
      "  (854, 11894)\t0.18514510988265076\n",
      "  (854, 16810)\t0.09400547057768915\n",
      "  (854, 14107)\t0.351010149461084\n",
      "  (854, 1920)\t0.07883174745926118\n",
      "  (854, 8284)\t0.21634288148869013\n",
      "  (854, 3502)\t0.31279107749588114\n",
      "  (854, 13493)\t0.10335896123145474\n",
      "  (854, 9105)\t0.16166536414466562\n",
      "  (854, 2325)\t0.08304755042167102\n",
      "  (854, 7380)\t0.12784119966432184\n",
      "  (854, 5188)\t0.13503219819683526\n",
      "  (854, 2927)\t0.08998448474644792\n",
      "  (854, 8608)\t0.06331696405005206\n",
      "  (854, 2070)\t0.1981338616002726\n",
      "  (854, 4183)\t0.11501022042181124\n",
      "  (854, 10907)\t0.057172357609830034\n",
      "  (854, 11882)\t0.14726745365590696\n",
      "  (854, 15494)\t0.16952409213336084\n",
      "  (854, 6806)\t0.06264861082941628\n"
     ]
    }
   ],
   "source": [
    "# Vectorising features (title and description)\n",
    "X_title = vec_tdidf.fit_transform(X_title)\n",
    "X_description = vec_tdidf.fit_transform(X_description)\n",
    "print(X_title)\n",
    "print(X_description)"
   ]
  },
  {
   "cell_type": "code",
   "execution_count": 77,
   "id": "cac8d83d",
   "metadata": {},
   "outputs": [],
   "source": [
    "# Split the data into training and testing sets\n",
    "X_train_title, X_test_title, X_train_description, X_test_description, y_train, y_test = train_test_split(\n",
    "    X_title, X_description, y, test_size=0.2, random_state=42\n",
    ")"
   ]
  },
  {
   "cell_type": "code",
   "execution_count": 78,
   "id": "37b3de63",
   "metadata": {},
   "outputs": [],
   "source": [
    "# Concatenate the vectors to create a feature matrix\n",
    "X_train = np.hstack((X_train_title.toarray(), X_train_description.toarray()))\n",
    "X_test = np.hstack((X_test_title.toarray(), X_test_description.toarray()))"
   ]
  },
  {
   "cell_type": "code",
   "execution_count": 100,
   "id": "3b5d2dea",
   "metadata": {},
   "outputs": [],
   "source": [
    "# Creating XGBoost model\n",
    "import xgboost as xgb\n",
    "\n",
    "xgb_model = xgb.XGBClassifier(random_state=42, \n",
    "                              seed=2, \n",
    "                              colsample_bytree=0.6,\n",
    "                              early_stopping_rounds=50,\n",
    "                              subsample=0.5,\n",
    "                              max_depth=3, \n",
    "                              learning_rate=0.01)"
   ]
  },
  {
   "cell_type": "code",
   "execution_count": 103,
   "id": "4744e615",
   "metadata": {},
   "outputs": [],
   "source": [
    "# Apply cross-validation \n",
    "cv = StratifiedKFold(n_splits=5, shuffle=True, random_state=42)"
   ]
  },
  {
   "cell_type": "code",
   "execution_count": 105,
   "id": "a99189b7",
   "metadata": {},
   "outputs": [
    {
     "name": "stderr",
     "output_type": "stream",
     "text": [
      "C:\\Users\\Dishan\\anaconda3\\lib\\site-packages\\sklearn\\model_selection\\_validation.py:372: FitFailedWarning: \n",
      "5 fits failed out of a total of 5.\n",
      "The score on these train-test partitions for these parameters will be set to nan.\n",
      "If these failures are not expected, you can try to debug them by setting error_score='raise'.\n",
      "\n",
      "Below are more details about the failures:\n",
      "--------------------------------------------------------------------------------\n",
      "5 fits failed with the following error:\n",
      "Traceback (most recent call last):\n",
      "  File \"C:\\Users\\Dishan\\anaconda3\\lib\\site-packages\\sklearn\\model_selection\\_validation.py\", line 680, in _fit_and_score\n",
      "    estimator.fit(X_train, y_train, **fit_params)\n",
      "  File \"C:\\Users\\Dishan\\anaconda3\\lib\\site-packages\\xgboost\\core.py\", line 620, in inner_f\n",
      "    return func(**kwargs)\n",
      "  File \"C:\\Users\\Dishan\\anaconda3\\lib\\site-packages\\xgboost\\sklearn.py\", line 1490, in fit\n",
      "    self._Booster = train(\n",
      "  File \"C:\\Users\\Dishan\\anaconda3\\lib\\site-packages\\xgboost\\core.py\", line 620, in inner_f\n",
      "    return func(**kwargs)\n",
      "  File \"C:\\Users\\Dishan\\anaconda3\\lib\\site-packages\\xgboost\\training.py\", line 186, in train\n",
      "    if cb_container.after_iteration(bst, i, dtrain, evals):\n",
      "  File \"C:\\Users\\Dishan\\anaconda3\\lib\\site-packages\\xgboost\\callback.py\", line 247, in after_iteration\n",
      "    ret = any(c.after_iteration(model, epoch, self.history)\n",
      "  File \"C:\\Users\\Dishan\\anaconda3\\lib\\site-packages\\xgboost\\callback.py\", line 247, in <genexpr>\n",
      "    ret = any(c.after_iteration(model, epoch, self.history)\n",
      "  File \"C:\\Users\\Dishan\\anaconda3\\lib\\site-packages\\xgboost\\callback.py\", line 412, in after_iteration\n",
      "    assert len(evals_log.keys()) >= 1, msg\n",
      "AssertionError: Must have at least 1 validation dataset for early stopping.\n",
      "\n",
      "  warnings.warn(some_fits_failed_message, FitFailedWarning)\n"
     ]
    }
   ],
   "source": [
    "# Perform cross-validation and get accuracy scores\n",
    "scores = cross_val_score(xgb_model, X_train, y_train, cv=cv, scoring='accuracy')"
   ]
  },
  {
   "cell_type": "code",
   "execution_count": 106,
   "id": "52b7dfeb",
   "metadata": {},
   "outputs": [
    {
     "name": "stdout",
     "output_type": "stream",
     "text": [
      "Cross-Validation Scores: [nan nan nan nan nan]\n",
      "Mean Accuracy: nan\n"
     ]
    }
   ],
   "source": [
    "print(\"Cross-Validation Scores:\", scores)\n",
    "print(\"Mean Accuracy:\", np.mean(scores))"
   ]
  },
  {
   "cell_type": "code",
   "execution_count": 96,
   "id": "4e41b604",
   "metadata": {
    "scrolled": true
   },
   "outputs": [
    {
     "name": "stdout",
     "output_type": "stream",
     "text": [
      "[0]\tvalidation_0-logloss:0.68858\tvalidation_1-logloss:0.68910\n",
      "[1]\tvalidation_0-logloss:0.68394\tvalidation_1-logloss:0.68471\n",
      "[2]\tvalidation_0-logloss:0.67951\tvalidation_1-logloss:0.68154\n",
      "[3]\tvalidation_0-logloss:0.67638\tvalidation_1-logloss:0.67916\n",
      "[4]\tvalidation_0-logloss:0.67094\tvalidation_1-logloss:0.67359\n",
      "[5]\tvalidation_0-logloss:0.66759\tvalidation_1-logloss:0.67044\n",
      "[6]\tvalidation_0-logloss:0.66351\tvalidation_1-logloss:0.66788\n",
      "[7]\tvalidation_0-logloss:0.66112\tvalidation_1-logloss:0.66846\n",
      "[8]\tvalidation_0-logloss:0.65725\tvalidation_1-logloss:0.66621\n",
      "[9]\tvalidation_0-logloss:0.65501\tvalidation_1-logloss:0.66630\n",
      "[10]\tvalidation_0-logloss:0.65208\tvalidation_1-logloss:0.66414\n",
      "[11]\tvalidation_0-logloss:0.64857\tvalidation_1-logloss:0.66425\n",
      "[12]\tvalidation_0-logloss:0.64465\tvalidation_1-logloss:0.66101\n",
      "[13]\tvalidation_0-logloss:0.63967\tvalidation_1-logloss:0.65613\n",
      "[14]\tvalidation_0-logloss:0.63499\tvalidation_1-logloss:0.65198\n",
      "[15]\tvalidation_0-logloss:0.63188\tvalidation_1-logloss:0.64868\n",
      "[16]\tvalidation_0-logloss:0.62812\tvalidation_1-logloss:0.64537\n",
      "[17]\tvalidation_0-logloss:0.62481\tvalidation_1-logloss:0.64331\n",
      "[18]\tvalidation_0-logloss:0.61980\tvalidation_1-logloss:0.63748\n",
      "[19]\tvalidation_0-logloss:0.61711\tvalidation_1-logloss:0.63601\n",
      "[20]\tvalidation_0-logloss:0.61418\tvalidation_1-logloss:0.63390\n",
      "[21]\tvalidation_0-logloss:0.61163\tvalidation_1-logloss:0.63499\n",
      "[22]\tvalidation_0-logloss:0.60774\tvalidation_1-logloss:0.63136\n",
      "[23]\tvalidation_0-logloss:0.60496\tvalidation_1-logloss:0.62833\n",
      "[24]\tvalidation_0-logloss:0.60114\tvalidation_1-logloss:0.62556\n",
      "[25]\tvalidation_0-logloss:0.59718\tvalidation_1-logloss:0.62089\n",
      "[26]\tvalidation_0-logloss:0.59498\tvalidation_1-logloss:0.61997\n",
      "[27]\tvalidation_0-logloss:0.59145\tvalidation_1-logloss:0.61760\n",
      "[28]\tvalidation_0-logloss:0.58978\tvalidation_1-logloss:0.61625\n",
      "[29]\tvalidation_0-logloss:0.58653\tvalidation_1-logloss:0.61420\n",
      "[30]\tvalidation_0-logloss:0.58222\tvalidation_1-logloss:0.60908\n",
      "[31]\tvalidation_0-logloss:0.57985\tvalidation_1-logloss:0.60893\n",
      "[32]\tvalidation_0-logloss:0.57636\tvalidation_1-logloss:0.60482\n",
      "[33]\tvalidation_0-logloss:0.57404\tvalidation_1-logloss:0.60301\n",
      "[34]\tvalidation_0-logloss:0.57113\tvalidation_1-logloss:0.60064\n",
      "[35]\tvalidation_0-logloss:0.56824\tvalidation_1-logloss:0.59891\n",
      "[36]\tvalidation_0-logloss:0.56557\tvalidation_1-logloss:0.59620\n",
      "[37]\tvalidation_0-logloss:0.56267\tvalidation_1-logloss:0.59333\n",
      "[38]\tvalidation_0-logloss:0.56050\tvalidation_1-logloss:0.59360\n",
      "[39]\tvalidation_0-logloss:0.55731\tvalidation_1-logloss:0.59124\n",
      "[40]\tvalidation_0-logloss:0.55424\tvalidation_1-logloss:0.58891\n",
      "[41]\tvalidation_0-logloss:0.55160\tvalidation_1-logloss:0.58660\n",
      "[42]\tvalidation_0-logloss:0.54789\tvalidation_1-logloss:0.58212\n",
      "[43]\tvalidation_0-logloss:0.54577\tvalidation_1-logloss:0.58075\n",
      "[44]\tvalidation_0-logloss:0.54225\tvalidation_1-logloss:0.57671\n",
      "[45]\tvalidation_0-logloss:0.53901\tvalidation_1-logloss:0.57301\n",
      "[46]\tvalidation_0-logloss:0.53703\tvalidation_1-logloss:0.57117\n",
      "[47]\tvalidation_0-logloss:0.53396\tvalidation_1-logloss:0.56822\n",
      "[48]\tvalidation_0-logloss:0.53188\tvalidation_1-logloss:0.56747\n",
      "[49]\tvalidation_0-logloss:0.52927\tvalidation_1-logloss:0.56546\n",
      "[50]\tvalidation_0-logloss:0.52747\tvalidation_1-logloss:0.56420\n",
      "[51]\tvalidation_0-logloss:0.52483\tvalidation_1-logloss:0.56289\n",
      "[52]\tvalidation_0-logloss:0.52282\tvalidation_1-logloss:0.56273\n",
      "[53]\tvalidation_0-logloss:0.52009\tvalidation_1-logloss:0.56004\n",
      "[54]\tvalidation_0-logloss:0.51830\tvalidation_1-logloss:0.55906\n",
      "[55]\tvalidation_0-logloss:0.51607\tvalidation_1-logloss:0.55734\n",
      "[56]\tvalidation_0-logloss:0.51400\tvalidation_1-logloss:0.55647\n",
      "[57]\tvalidation_0-logloss:0.51193\tvalidation_1-logloss:0.55447\n",
      "[58]\tvalidation_0-logloss:0.50910\tvalidation_1-logloss:0.55120\n",
      "[59]\tvalidation_0-logloss:0.50704\tvalidation_1-logloss:0.54947\n",
      "[60]\tvalidation_0-logloss:0.50450\tvalidation_1-logloss:0.54744\n",
      "[61]\tvalidation_0-logloss:0.50235\tvalidation_1-logloss:0.54609\n",
      "[62]\tvalidation_0-logloss:0.50024\tvalidation_1-logloss:0.54378\n",
      "[63]\tvalidation_0-logloss:0.49862\tvalidation_1-logloss:0.54273\n",
      "[64]\tvalidation_0-logloss:0.49666\tvalidation_1-logloss:0.54202\n",
      "[65]\tvalidation_0-logloss:0.49417\tvalidation_1-logloss:0.54004\n",
      "[66]\tvalidation_0-logloss:0.49168\tvalidation_1-logloss:0.53804\n",
      "[67]\tvalidation_0-logloss:0.48949\tvalidation_1-logloss:0.53774\n",
      "[68]\tvalidation_0-logloss:0.48656\tvalidation_1-logloss:0.53437\n",
      "[69]\tvalidation_0-logloss:0.48483\tvalidation_1-logloss:0.53250\n",
      "[70]\tvalidation_0-logloss:0.48240\tvalidation_1-logloss:0.53050\n",
      "[71]\tvalidation_0-logloss:0.47972\tvalidation_1-logloss:0.52739\n",
      "[72]\tvalidation_0-logloss:0.47726\tvalidation_1-logloss:0.52560\n",
      "[73]\tvalidation_0-logloss:0.47495\tvalidation_1-logloss:0.52298\n",
      "[74]\tvalidation_0-logloss:0.47223\tvalidation_1-logloss:0.51972\n",
      "[75]\tvalidation_0-logloss:0.46996\tvalidation_1-logloss:0.51777\n",
      "[76]\tvalidation_0-logloss:0.46768\tvalidation_1-logloss:0.51454\n",
      "[77]\tvalidation_0-logloss:0.46576\tvalidation_1-logloss:0.51282\n",
      "[78]\tvalidation_0-logloss:0.46257\tvalidation_1-logloss:0.50875\n",
      "[79]\tvalidation_0-logloss:0.46074\tvalidation_1-logloss:0.50720\n",
      "[80]\tvalidation_0-logloss:0.45867\tvalidation_1-logloss:0.50605\n",
      "[81]\tvalidation_0-logloss:0.45649\tvalidation_1-logloss:0.50483\n",
      "[82]\tvalidation_0-logloss:0.45527\tvalidation_1-logloss:0.50439\n",
      "[83]\tvalidation_0-logloss:0.45408\tvalidation_1-logloss:0.50304\n",
      "[84]\tvalidation_0-logloss:0.45272\tvalidation_1-logloss:0.50198\n",
      "[85]\tvalidation_0-logloss:0.45067\tvalidation_1-logloss:0.50101\n",
      "[86]\tvalidation_0-logloss:0.44871\tvalidation_1-logloss:0.49994\n",
      "[87]\tvalidation_0-logloss:0.44637\tvalidation_1-logloss:0.49784\n",
      "[88]\tvalidation_0-logloss:0.44510\tvalidation_1-logloss:0.49665\n",
      "[89]\tvalidation_0-logloss:0.44378\tvalidation_1-logloss:0.49555\n",
      "[90]\tvalidation_0-logloss:0.44111\tvalidation_1-logloss:0.49239\n",
      "[91]\tvalidation_0-logloss:0.43917\tvalidation_1-logloss:0.49115\n",
      "[92]\tvalidation_0-logloss:0.43731\tvalidation_1-logloss:0.48928\n",
      "[93]\tvalidation_0-logloss:0.43498\tvalidation_1-logloss:0.48685\n",
      "[94]\tvalidation_0-logloss:0.43370\tvalidation_1-logloss:0.48641\n",
      "[95]\tvalidation_0-logloss:0.43196\tvalidation_1-logloss:0.48453\n",
      "[96]\tvalidation_0-logloss:0.43069\tvalidation_1-logloss:0.48543\n",
      "[97]\tvalidation_0-logloss:0.42848\tvalidation_1-logloss:0.48353\n",
      "[98]\tvalidation_0-logloss:0.42633\tvalidation_1-logloss:0.48219\n",
      "[99]\tvalidation_0-logloss:0.42403\tvalidation_1-logloss:0.47910\n"
     ]
    },
    {
     "data": {
      "text/plain": [
       "XGBClassifier(base_score=None, booster=None, callbacks=None,\n",
       "              colsample_bylevel=None, colsample_bynode=None,\n",
       "              colsample_bytree=0.6, early_stopping_rounds=50,\n",
       "              enable_categorical=False, eval_metric=None, feature_types=None,\n",
       "              gamma=None, gpu_id=None, grow_policy=None, importance_type=None,\n",
       "              interaction_constraints=None, learning_rate=0.01, max_bin=None,\n",
       "              max_cat_threshold=None, max_cat_to_onehot=None,\n",
       "              max_delta_step=None, max_depth=3, max_leaves=None,\n",
       "              min_child_weight=None, missing=nan, monotone_constraints=None,\n",
       "              n_estimators=100, n_jobs=None, num_parallel_tree=None,\n",
       "              predictor=None, random_state=42, ...)"
      ]
     },
     "execution_count": 96,
     "metadata": {},
     "output_type": "execute_result"
    }
   ],
   "source": [
    "# Train the XGBoost model\n",
    "xgb_model.fit(X_train, y_train, eval_set=[(X_train, y_train), (X_test, y_test)])"
   ]
  },
  {
   "cell_type": "code",
   "execution_count": 97,
   "id": "e2cc76f8",
   "metadata": {},
   "outputs": [
    {
     "data": {
      "text/plain": [
       "array([1, 0, 1, 0, 1, 0, 1, 0, 0, 1, 0, 0, 0, 1, 1, 1, 1, 1, 0, 0, 0, 0,\n",
       "       0, 0, 0, 0, 0, 0, 0, 0, 0, 0, 1, 1, 0, 1, 1, 0, 0, 1, 1, 0, 1, 1,\n",
       "       0, 1, 0])"
      ]
     },
     "execution_count": 97,
     "metadata": {},
     "output_type": "execute_result"
    }
   ],
   "source": [
    "# Make predictions using the test dataset \n",
    "y_pred = xgb_model.predict(X_test)\n",
    "y_pred"
   ]
  },
  {
   "cell_type": "code",
   "execution_count": 98,
   "id": "9f8085a6",
   "metadata": {},
   "outputs": [
    {
     "name": "stdout",
     "output_type": "stream",
     "text": [
      "Accuracy: 0.9361702127659575\n",
      "              precision    recall  f1-score   support\n",
      "\n",
      "       False       0.89      1.00      0.94        25\n",
      "        True       1.00      0.86      0.93        22\n",
      "\n",
      "    accuracy                           0.94        47\n",
      "   macro avg       0.95      0.93      0.94        47\n",
      "weighted avg       0.94      0.94      0.94        47\n",
      "\n"
     ]
    }
   ],
   "source": [
    "# Evaluate the model\n",
    "from sklearn.metrics import accuracy_score, classification_report\n",
    "\n",
    "accuracy = accuracy_score(y_test, y_pred)\n",
    "report = classification_report(y_test, y_pred)\n",
    "\n",
    "print(f\"Accuracy: {accuracy}\")\n",
    "print(report)"
   ]
  },
  {
   "cell_type": "code",
   "execution_count": 99,
   "id": "c051ab47",
   "metadata": {},
   "outputs": [
    {
     "data": {
      "text/plain": [
       "Text(50.722222222222214, 0.5, 'Truth')"
      ]
     },
     "execution_count": 99,
     "metadata": {},
     "output_type": "execute_result"
    },
    {
     "data": {
      "image/png": "[encoded data removed]",
      "text/plain": [
       "<Figure size 640x480 with 2 Axes>"
      ]
     },
     "metadata": {},
     "output_type": "display_data"
    }
   ],
   "source": [
    "from sklearn.metrics import confusion_matrix, classification_report\n",
    "\n",
    "cm = confusion_matrix(y_test, y_pred)\n",
    "\n",
    "sn.heatmap(cm, annot=True, fmt='d')\n",
    "plt.xlabel('Predicted')\n",
    "plt.ylabel('Truth')"
   ]
  },
  {
   "cell_type": "code",
   "execution_count": 86,
   "id": "a86d2b9d",
   "metadata": {},
   "outputs": [
    {
     "data": {
      "text/html": [
       "<div>\n",
       "<style scoped>\n",
       "    .dataframe tbody tr th:only-of-type {\n",
       "        vertical-align: middle;\n",
       "    }\n",
       "\n",
       "    .dataframe tbody tr th {\n",
       "        vertical-align: top;\n",
       "    }\n",
       "\n",
       "    .dataframe thead th {\n",
       "        text-align: right;\n",
       "    }\n",
       "</style>\n",
       "<table border=\"1\" class=\"dataframe\">\n",
       "  <thead>\n",
       "    <tr style=\"text-align: right;\">\n",
       "      <th></th>\n",
       "      <th>Original Description</th>\n",
       "      <th>Lemmatized Description</th>\n",
       "      <th>Risk</th>\n",
       "    </tr>\n",
       "  </thead>\n",
       "  <tbody>\n",
       "    <tr>\n",
       "      <th>0</th>\n",
       "      <td>\\nChina’s Fujian Mawei Shipbuilding announced ...</td>\n",
       "      <td>['china', '’', 's', 'fujian', 'mawei', 'shipbu...</td>\n",
       "      <td>False</td>\n",
       "    </tr>\n",
       "    <tr>\n",
       "      <th>1</th>\n",
       "      <td>\\nThe Asian container port of Hong Kong saw a ...</td>\n",
       "      <td>['the', 'asian', 'container', 'port', 'of', 'h...</td>\n",
       "      <td>False</td>\n",
       "    </tr>\n",
       "    <tr>\n",
       "      <th>2</th>\n",
       "      <td>\\nBoth MSC and Maersk have extended the 2M all...</td>\n",
       "      <td>['both', 'msc', 'and', 'maersk', 'have', 'exte...</td>\n",
       "      <td>False</td>\n",
       "    </tr>\n",
       "    <tr>\n",
       "      <th>3</th>\n",
       "      <td>\\nShanghai International Port Group (SIPG) han...</td>\n",
       "      <td>['shanghai', 'international', 'port', 'group',...</td>\n",
       "      <td>False</td>\n",
       "    </tr>\n",
       "    <tr>\n",
       "      <th>4</th>\n",
       "      <td>\\nCosco Shipping has launched a door-to-door s...</td>\n",
       "      <td>['cosco', 'shipping', 'ha', 'launched', 'a', '...</td>\n",
       "      <td>False</td>\n",
       "    </tr>\n",
       "    <tr>\n",
       "      <th>...</th>\n",
       "      <td>...</td>\n",
       "      <td>...</td>\n",
       "      <td>...</td>\n",
       "    </tr>\n",
       "    <tr>\n",
       "      <th>232</th>\n",
       "      <td>U.S. oil and gas majors Chevron and ExxonMobil...</td>\n",
       "      <td>['u.s.', 'oil', 'and', 'gas', 'major', 'chevro...</td>\n",
       "      <td>True</td>\n",
       "    </tr>\n",
       "    <tr>\n",
       "      <th>233</th>\n",
       "      <td>\\nCosco Shipping Specialized Carriers has laun...</td>\n",
       "      <td>['cosco', 'shipping', 'specialized', 'carrier'...</td>\n",
       "      <td>False</td>\n",
       "    </tr>\n",
       "    <tr>\n",
       "      <th>234</th>\n",
       "      <td>\\nDP World sees Indonesia as an important grow...</td>\n",
       "      <td>['dp', 'world', 'see', 'indonesia', 'a', 'an',...</td>\n",
       "      <td>False</td>\n",
       "    </tr>\n",
       "    <tr>\n",
       "      <th>235</th>\n",
       "      <td>\\nThe number of blank sailings by container li...</td>\n",
       "      <td>['the', 'number', 'of', 'blank', 'sailing', 'b...</td>\n",
       "      <td>False</td>\n",
       "    </tr>\n",
       "    <tr>\n",
       "      <th>236</th>\n",
       "      <td>\\nPort of Hamburg terminal operator HHLA will ...</td>\n",
       "      <td>['port', 'of', 'hamburg', 'terminal', 'operato...</td>\n",
       "      <td>False</td>\n",
       "    </tr>\n",
       "  </tbody>\n",
       "</table>\n",
       "<p>237 rows × 3 columns</p>\n",
       "</div>"
      ],
      "text/plain": [
       "                                  Original Description  \\\n",
       "0    \\nChina’s Fujian Mawei Shipbuilding announced ...   \n",
       "1    \\nThe Asian container port of Hong Kong saw a ...   \n",
       "2    \\nBoth MSC and Maersk have extended the 2M all...   \n",
       "3    \\nShanghai International Port Group (SIPG) han...   \n",
       "4    \\nCosco Shipping has launched a door-to-door s...   \n",
       "..                                                 ...   \n",
       "232  U.S. oil and gas majors Chevron and ExxonMobil...   \n",
       "233  \\nCosco Shipping Specialized Carriers has laun...   \n",
       "234  \\nDP World sees Indonesia as an important grow...   \n",
       "235  \\nThe number of blank sailings by container li...   \n",
       "236  \\nPort of Hamburg terminal operator HHLA will ...   \n",
       "\n",
       "                                Lemmatized Description   Risk  \n",
       "0    ['china', '’', 's', 'fujian', 'mawei', 'shipbu...  False  \n",
       "1    ['the', 'asian', 'container', 'port', 'of', 'h...  False  \n",
       "2    ['both', 'msc', 'and', 'maersk', 'have', 'exte...  False  \n",
       "3    ['shanghai', 'international', 'port', 'group',...  False  \n",
       "4    ['cosco', 'shipping', 'ha', 'launched', 'a', '...  False  \n",
       "..                                                 ...    ...  \n",
       "232  ['u.s.', 'oil', 'and', 'gas', 'major', 'chevro...   True  \n",
       "233  ['cosco', 'shipping', 'specialized', 'carrier'...  False  \n",
       "234  ['dp', 'world', 'see', 'indonesia', 'a', 'an',...  False  \n",
       "235  ['the', 'number', 'of', 'blank', 'sailing', 'b...  False  \n",
       "236  ['port', 'of', 'hamburg', 'terminal', 'operato...  False  \n",
       "\n",
       "[237 rows x 3 columns]"
      ]
     },
     "execution_count": 86,
     "metadata": {},
     "output_type": "execute_result"
    }
   ],
   "source": [
    "# Creating a new dataframe to compare the original description and lemmatized description and check the validity of risk labeled risk level\n",
    "news_df = pd.read_excel('C:/Users/Dishan/Vessel tracking project/filtered_scraped_news_data.xlsx')\n",
    "news_df\n",
    "\n",
    "description_df = pd.DataFrame({'Original Description': news_df['Description'],\n",
    "                               'Lemmatized Description': xgb_df['Description'], \n",
    "                               'Risk': xgb_df['Risk']})\n",
    "description_df"
   ]
  },
  {
   "cell_type": "code",
   "execution_count": 87,
   "id": "3cc1af59",
   "metadata": {},
   "outputs": [],
   "source": [
    "output_file='description_lemmatization_compare.xlsx'\n",
    "description_df.to_excel(output_file, index=False)"
   ]
  },
  {
   "cell_type": "markdown",
   "id": "19342175",
   "metadata": {},
   "source": [
    "# Bert Model"
   ]
  },
  {
   "cell_type": "code",
   "execution_count": null,
   "id": "e9385f98",
   "metadata": {},
   "outputs": [],
   "source": []
  },
  {
   "cell_type": "code",
   "execution_count": 15,
   "id": "c2b18824",
   "metadata": {},
   "outputs": [
    {
     "data": {
      "text/plain": [
       "array([<234x993 sparse matrix of type '<class 'numpy.float64'>'\n",
       "       \twith 2530 stored elements in Compressed Sparse Row format>,\n",
       "       <234x10576 sparse matrix of type '<class 'numpy.float64'>'\n",
       "       \twith 87726 stored elements in Compressed Sparse Row format>],\n",
       "      dtype=object)"
      ]
     },
     "execution_count": 15,
     "metadata": {},
     "output_type": "execute_result"
    }
   ],
   "source": [
    "Vecs_combined = np.hstack((title_vecs, description_vecs))\n",
    "Vecs_combined"
   ]
  },
  {
   "cell_type": "code",
   "execution_count": 19,
   "id": "e9af2e52",
   "metadata": {
    "collapsed": true
   },
   "outputs": [
    {
     "data": {
      "text/plain": [
       "False    133\n",
       "True     101\n",
       "Name: Is_Risk_to_Port_or_Vessel, dtype: int64"
      ]
     },
     "execution_count": 19,
     "metadata": {},
     "output_type": "execute_result"
    }
   ],
   "source": [
    "# filtered_df['Is_Risk_to_Port_or_Vessel'].value_counts()"
   ]
  },
  {
   "cell_type": "code",
   "execution_count": 22,
   "id": "0886b880",
   "metadata": {
    "collapsed": true
   },
   "outputs": [
    {
     "name": "stdout",
     "output_type": "stream",
     "text": [
      "<class 'pandas.core.frame.DataFrame'>\n",
      "Int64Index: 234 entries, 9 to 2229\n",
      "Data columns (total 6 columns):\n",
      " #   Column                     Non-Null Count  Dtype \n",
      "---  ------                     --------------  ----- \n",
      " 0   Title                      234 non-null    object\n",
      " 1   Date                       234 non-null    object\n",
      " 2   Description                234 non-null    object\n",
      " 3   URL                        226 non-null    object\n",
      " 4   Risk                       234 non-null    object\n",
      " 5   Is_Risk_to_Port_or_Vessel  234 non-null    bool  \n",
      "dtypes: bool(1), object(5)\n",
      "memory usage: 11.2+ KB\n"
     ]
    }
   ],
   "source": [
    "# filtered_df.info()"
   ]
  },
  {
   "cell_type": "code",
   "execution_count": 23,
   "id": "354ebbee",
   "metadata": {},
   "outputs": [],
   "source": [
    "# from sklearn.model_selection import train_test_split\n",
    "\n",
    "# X_train, X_test, y_train, y_test = train_test_split(filtered_df['Description'],filtered_df['Is_Risk_to_Port_or_Vessel'], stratify=filtered_df['Is_Risk_to_Port_or_Vessel'])\n"
   ]
  },
  {
   "cell_type": "code",
   "execution_count": 81,
   "id": "f53f2612",
   "metadata": {},
   "outputs": [
    {
     "name": "stdout",
     "output_type": "stream",
     "text": [
      "Collecting tensorflow\n",
      "  Using cached tensorflow-2.13.0-cp39-cp39-win_amd64.whl (1.9 kB)\n",
      "Collecting tensorflow-intel==2.13.0\n",
      "  Using cached tensorflow_intel-2.13.0-cp39-cp39-win_amd64.whl (276.5 MB)\n",
      "Requirement already satisfied: flatbuffers>=23.1.21 in c:\\users\\dishan\\anaconda3\\lib\\site-packages (from tensorflow-intel==2.13.0->tensorflow) (23.5.26)\n",
      "Collecting opt-einsum>=2.3.2\n",
      "  Using cached opt_einsum-3.3.0-py3-none-any.whl (65 kB)\n",
      "Requirement already satisfied: packaging in c:\\users\\dishan\\anaconda3\\lib\\site-packages (from tensorflow-intel==2.13.0->tensorflow) (21.3)\n",
      "Collecting gast<=0.4.0,>=0.2.1\n",
      "  Using cached gast-0.4.0-py3-none-any.whl (9.8 kB)\n",
      "Requirement already satisfied: termcolor>=1.1.0 in c:\\users\\dishan\\anaconda3\\lib\\site-packages (from tensorflow-intel==2.13.0->tensorflow) (2.3.0)\n",
      "Requirement already satisfied: six>=1.12.0 in c:\\users\\dishan\\anaconda3\\lib\\site-packages (from tensorflow-intel==2.13.0->tensorflow) (1.16.0)\n",
      "Collecting tensorboard<2.14,>=2.13\n",
      "  Using cached tensorboard-2.13.0-py3-none-any.whl (5.6 MB)\n",
      "Requirement already satisfied: typing-extensions<4.6.0,>=3.6.6 in c:\\users\\dishan\\anaconda3\\lib\\site-packages (from tensorflow-intel==2.13.0->tensorflow) (4.3.0)\n",
      "Collecting grpcio<2.0,>=1.24.3\n",
      "  Using cached grpcio-1.58.0-cp39-cp39-win_amd64.whl (4.3 MB)\n",
      "Collecting absl-py>=1.0.0\n",
      "  Using cached absl_py-1.4.0-py3-none-any.whl (126 kB)\n",
      "Requirement already satisfied: setuptools in c:\\users\\dishan\\anaconda3\\lib\\site-packages (from tensorflow-intel==2.13.0->tensorflow) (63.4.1)\n",
      "Requirement already satisfied: wrapt>=1.11.0 in c:\\users\\dishan\\anaconda3\\lib\\site-packages (from tensorflow-intel==2.13.0->tensorflow) (1.14.1)\n",
      "Requirement already satisfied: numpy<=1.24.3,>=1.22 in c:\\users\\dishan\\anaconda3\\lib\\site-packages (from tensorflow-intel==2.13.0->tensorflow) (1.24.3)\n",
      "Collecting keras<2.14,>=2.13.1\n",
      "  Using cached keras-2.13.1-py3-none-any.whl (1.7 MB)\n",
      "Requirement already satisfied: protobuf!=4.21.0,!=4.21.1,!=4.21.2,!=4.21.3,!=4.21.4,!=4.21.5,<5.0.0dev,>=3.20.3 in c:\\users\\dishan\\anaconda3\\lib\\site-packages (from tensorflow-intel==2.13.0->tensorflow) (4.24.3)\n",
      "Collecting astunparse>=1.6.0\n",
      "  Using cached astunparse-1.6.3-py2.py3-none-any.whl (12 kB)\n",
      "Requirement already satisfied: h5py>=2.9.0 in c:\\users\\dishan\\anaconda3\\lib\\site-packages (from tensorflow-intel==2.13.0->tensorflow) (3.7.0)\n",
      "Requirement already satisfied: libclang>=13.0.0 in c:\\users\\dishan\\anaconda3\\lib\\site-packages (from tensorflow-intel==2.13.0->tensorflow) (16.0.6)\n",
      "Requirement already satisfied: tensorflow-io-gcs-filesystem>=0.23.1 in c:\\users\\dishan\\anaconda3\\lib\\site-packages (from tensorflow-intel==2.13.0->tensorflow) (0.31.0)\n",
      "Collecting google-pasta>=0.1.1\n",
      "  Using cached google_pasta-0.2.0-py3-none-any.whl (57 kB)\n",
      "Requirement already satisfied: tensorflow-estimator<2.14,>=2.13.0 in c:\\users\\dishan\\anaconda3\\lib\\site-packages (from tensorflow-intel==2.13.0->tensorflow) (2.13.0)\n",
      "Requirement already satisfied: wheel<1.0,>=0.23.0 in c:\\users\\dishan\\anaconda3\\lib\\site-packages (from astunparse>=1.6.0->tensorflow-intel==2.13.0->tensorflow) (0.37.1)\n",
      "Requirement already satisfied: requests<3,>=2.21.0 in c:\\users\\dishan\\anaconda3\\lib\\site-packages (from tensorboard<2.14,>=2.13->tensorflow-intel==2.13.0->tensorflow) (2.28.1)\n",
      "Requirement already satisfied: tensorboard-data-server<0.8.0,>=0.7.0 in c:\\users\\dishan\\anaconda3\\lib\\site-packages (from tensorboard<2.14,>=2.13->tensorflow-intel==2.13.0->tensorflow) (0.7.1)\n",
      "Requirement already satisfied: markdown>=2.6.8 in c:\\users\\dishan\\anaconda3\\lib\\site-packages (from tensorboard<2.14,>=2.13->tensorflow-intel==2.13.0->tensorflow) (3.3.4)\n",
      "Requirement already satisfied: werkzeug>=1.0.1 in c:\\users\\dishan\\anaconda3\\lib\\site-packages (from tensorboard<2.14,>=2.13->tensorflow-intel==2.13.0->tensorflow) (2.0.3)\n",
      "Collecting google-auth<3,>=1.6.3\n",
      "  Using cached google_auth-2.23.0-py2.py3-none-any.whl (181 kB)\n",
      "Collecting google-auth-oauthlib<1.1,>=0.5\n",
      "  Using cached google_auth_oauthlib-1.0.0-py2.py3-none-any.whl (18 kB)\n",
      "Requirement already satisfied: pyparsing!=3.0.5,>=2.0.2 in c:\\users\\dishan\\anaconda3\\lib\\site-packages (from packaging->tensorflow-intel==2.13.0->tensorflow) (3.0.9)\n",
      "Requirement already satisfied: pyasn1-modules>=0.2.1 in c:\\users\\dishan\\anaconda3\\lib\\site-packages (from google-auth<3,>=1.6.3->tensorboard<2.14,>=2.13->tensorflow-intel==2.13.0->tensorflow) (0.2.8)\n",
      "Collecting cachetools<6.0,>=2.0.0\n",
      "  Using cached cachetools-5.3.1-py3-none-any.whl (9.3 kB)\n",
      "Requirement already satisfied: urllib3<2.0 in c:\\users\\dishan\\anaconda3\\lib\\site-packages (from google-auth<3,>=1.6.3->tensorboard<2.14,>=2.13->tensorflow-intel==2.13.0->tensorflow) (1.26.11)\n",
      "Requirement already satisfied: rsa<5,>=3.1.4 in c:\\users\\dishan\\anaconda3\\lib\\site-packages (from google-auth<3,>=1.6.3->tensorboard<2.14,>=2.13->tensorflow-intel==2.13.0->tensorflow) (4.9)\n",
      "Collecting requests-oauthlib>=0.7.0\n",
      "  Using cached requests_oauthlib-1.3.1-py2.py3-none-any.whl (23 kB)\n",
      "Requirement already satisfied: idna<4,>=2.5 in c:\\users\\dishan\\anaconda3\\lib\\site-packages (from requests<3,>=2.21.0->tensorboard<2.14,>=2.13->tensorflow-intel==2.13.0->tensorflow) (3.3)\n",
      "Requirement already satisfied: charset-normalizer<3,>=2 in c:\\users\\dishan\\anaconda3\\lib\\site-packages (from requests<3,>=2.21.0->tensorboard<2.14,>=2.13->tensorflow-intel==2.13.0->tensorflow) (2.0.4)\n",
      "Requirement already satisfied: certifi>=2017.4.17 in c:\\users\\dishan\\anaconda3\\lib\\site-packages (from requests<3,>=2.21.0->tensorboard<2.14,>=2.13->tensorflow-intel==2.13.0->tensorflow) (2022.9.14)\n",
      "Requirement already satisfied: pyasn1<0.5.0,>=0.4.6 in c:\\users\\dishan\\anaconda3\\lib\\site-packages (from pyasn1-modules>=0.2.1->google-auth<3,>=1.6.3->tensorboard<2.14,>=2.13->tensorflow-intel==2.13.0->tensorflow) (0.4.8)\n",
      "Requirement already satisfied: oauthlib>=3.0.0 in c:\\users\\dishan\\anaconda3\\lib\\site-packages (from requests-oauthlib>=0.7.0->google-auth-oauthlib<1.1,>=0.5->tensorboard<2.14,>=2.13->tensorflow-intel==2.13.0->tensorflow) (3.2.2)\n",
      "Installing collected packages: opt-einsum, keras, grpcio, google-pasta, gast, cachetools, astunparse, absl-py, requests-oauthlib, google-auth, google-auth-oauthlib, tensorboard, tensorflow-intel, tensorflow\n",
      "Successfully installed absl-py-1.4.0 astunparse-1.6.3 cachetools-5.3.1 gast-0.4.0 google-auth-2.23.0 google-auth-oauthlib-1.0.0 google-pasta-0.2.0 grpcio-1.58.0 keras-2.13.1 opt-einsum-3.3.0 requests-oauthlib-1.3.1 tensorboard-2.13.0 tensorflow-2.13.0 tensorflow-intel-2.13.0\n"
     ]
    },
    {
     "ename": "RuntimeError",
     "evalue": "module compiled against API version 0xf but this version of numpy is 0xe",
     "output_type": "error",
     "traceback": [
      "\u001b[1;31m---------------------------------------------------------------------------\u001b[0m",
      "\u001b[1;31mRuntimeError\u001b[0m                              Traceback (most recent call last)",
      "\u001b[1;31mRuntimeError\u001b[0m: module compiled against API version 0xf but this version of numpy is 0xe"
     ]
    },
    {
     "ename": "RuntimeError",
     "evalue": "module compiled against API version 0xf but this version of numpy is 0xe",
     "output_type": "error",
     "traceback": [
      "\u001b[1;31m---------------------------------------------------------------------------\u001b[0m",
      "\u001b[1;31mRuntimeError\u001b[0m                              Traceback (most recent call last)",
      "\u001b[1;31mRuntimeError\u001b[0m: module compiled against API version 0xf but this version of numpy is 0xe"
     ]
    },
    {
     "ename": "ImportError",
     "evalue": "numpy.core._multiarray_umath failed to import",
     "output_type": "error",
     "traceback": [
      "\u001b[1;31m---------------------------------------------------------------------------\u001b[0m",
      "\u001b[1;31mImportError\u001b[0m                               Traceback (most recent call last)",
      "\u001b[1;31mImportError\u001b[0m: numpy.core._multiarray_umath failed to import"
     ]
    },
    {
     "ename": "ImportError",
     "evalue": "numpy.core.umath failed to import",
     "output_type": "error",
     "traceback": [
      "\u001b[1;31m---------------------------------------------------------------------------\u001b[0m",
      "\u001b[1;31mImportError\u001b[0m                               Traceback (most recent call last)",
      "\u001b[1;31mImportError\u001b[0m: numpy.core.umath failed to import"
     ]
    },
    {
     "ename": "RuntimeError",
     "evalue": "module compiled against API version 0xf but this version of numpy is 0xe",
     "output_type": "error",
     "traceback": [
      "\u001b[1;31m---------------------------------------------------------------------------\u001b[0m",
      "\u001b[1;31mRuntimeError\u001b[0m                              Traceback (most recent call last)",
      "\u001b[1;31mRuntimeError\u001b[0m: module compiled against API version 0xf but this version of numpy is 0xe"
     ]
    },
    {
     "ename": "ImportError",
     "evalue": "numpy.core._multiarray_umath failed to import",
     "output_type": "error",
     "traceback": [
      "\u001b[1;31m---------------------------------------------------------------------------\u001b[0m",
      "\u001b[1;31mImportError\u001b[0m                               Traceback (most recent call last)",
      "\u001b[1;31mImportError\u001b[0m: numpy.core._multiarray_umath failed to import"
     ]
    },
    {
     "ename": "ImportError",
     "evalue": "numpy.core.umath failed to import",
     "output_type": "error",
     "traceback": [
      "\u001b[1;31m---------------------------------------------------------------------------\u001b[0m",
      "\u001b[1;31mImportError\u001b[0m                               Traceback (most recent call last)",
      "\u001b[1;31mImportError\u001b[0m: numpy.core.umath failed to import"
     ]
    },
    {
     "ename": "RuntimeError",
     "evalue": "module compiled against API version 0xf but this version of numpy is 0xe",
     "output_type": "error",
     "traceback": [
      "\u001b[1;31m---------------------------------------------------------------------------\u001b[0m",
      "\u001b[1;31mRuntimeError\u001b[0m                              Traceback (most recent call last)",
      "\u001b[1;31mRuntimeError\u001b[0m: module compiled against API version 0xf but this version of numpy is 0xe"
     ]
    },
    {
     "ename": "ImportError",
     "evalue": "numpy.core._multiarray_umath failed to import",
     "output_type": "error",
     "traceback": [
      "\u001b[1;31m---------------------------------------------------------------------------\u001b[0m",
      "\u001b[1;31mImportError\u001b[0m                               Traceback (most recent call last)",
      "\u001b[1;31mImportError\u001b[0m: numpy.core._multiarray_umath failed to import"
     ]
    },
    {
     "ename": "ImportError",
     "evalue": "numpy.core.umath failed to import",
     "output_type": "error",
     "traceback": [
      "\u001b[1;31m---------------------------------------------------------------------------\u001b[0m",
      "\u001b[1;31mImportError\u001b[0m                               Traceback (most recent call last)",
      "\u001b[1;31mImportError\u001b[0m: numpy.core.umath failed to import"
     ]
    },
    {
     "ename": "TypeError",
     "evalue": "Unable to convert function return value to a Python type! The signature was\n\t() -> handle",
     "output_type": "error",
     "traceback": [
      "\u001b[1;31m---------------------------------------------------------------------------\u001b[0m",
      "\u001b[1;31mTypeError\u001b[0m                                 Traceback (most recent call last)",
      "\u001b[1;32m~\\AppData\\Local\\Temp\\ipykernel_6560\\3204491171.py\u001b[0m in \u001b[0;36m<module>\u001b[1;34m\u001b[0m\n\u001b[0;32m      1\u001b[0m \u001b[0mget_ipython\u001b[0m\u001b[1;33m(\u001b[0m\u001b[1;33m)\u001b[0m\u001b[1;33m.\u001b[0m\u001b[0msystem\u001b[0m\u001b[1;33m(\u001b[0m\u001b[1;34m' pip install tensorflow'\u001b[0m\u001b[1;33m)\u001b[0m\u001b[1;33m\u001b[0m\u001b[1;33m\u001b[0m\u001b[0m\n\u001b[0;32m      2\u001b[0m \u001b[1;33m\u001b[0m\u001b[0m\n\u001b[1;32m----> 3\u001b[1;33m \u001b[1;32mimport\u001b[0m \u001b[0mtensorflow\u001b[0m \u001b[1;32mas\u001b[0m \u001b[0mtf\u001b[0m\u001b[1;33m\u001b[0m\u001b[1;33m\u001b[0m\u001b[0m\n\u001b[0m\u001b[0;32m      4\u001b[0m \u001b[1;32mimport\u001b[0m \u001b[0mtensorflow_hub\u001b[0m \u001b[1;32mas\u001b[0m \u001b[0mhub\u001b[0m\u001b[1;33m\u001b[0m\u001b[1;33m\u001b[0m\u001b[0m\n\u001b[0;32m      5\u001b[0m \u001b[1;32mimport\u001b[0m \u001b[0mtensorflow_text\u001b[0m \u001b[1;32mas\u001b[0m \u001b[0mtext\u001b[0m\u001b[1;33m\u001b[0m\u001b[1;33m\u001b[0m\u001b[0m\n",
      "\u001b[1;32m~\\anaconda3\\lib\\site-packages\\tensorflow\\__init__.py\u001b[0m in \u001b[0;36m<module>\u001b[1;34m\u001b[0m\n\u001b[0;32m     36\u001b[0m \u001b[1;32mimport\u001b[0m \u001b[0mtyping\u001b[0m \u001b[1;32mas\u001b[0m \u001b[0m_typing\u001b[0m\u001b[1;33m\u001b[0m\u001b[1;33m\u001b[0m\u001b[0m\n\u001b[0;32m     37\u001b[0m \u001b[1;33m\u001b[0m\u001b[0m\n\u001b[1;32m---> 38\u001b[1;33m \u001b[1;32mfrom\u001b[0m \u001b[0mtensorflow\u001b[0m\u001b[1;33m.\u001b[0m\u001b[0mpython\u001b[0m\u001b[1;33m.\u001b[0m\u001b[0mtools\u001b[0m \u001b[1;32mimport\u001b[0m \u001b[0mmodule_util\u001b[0m \u001b[1;32mas\u001b[0m \u001b[0m_module_util\u001b[0m\u001b[1;33m\u001b[0m\u001b[1;33m\u001b[0m\u001b[0m\n\u001b[0m\u001b[0;32m     39\u001b[0m \u001b[1;32mfrom\u001b[0m \u001b[0mtensorflow\u001b[0m\u001b[1;33m.\u001b[0m\u001b[0mpython\u001b[0m\u001b[1;33m.\u001b[0m\u001b[0mutil\u001b[0m\u001b[1;33m.\u001b[0m\u001b[0mlazy_loader\u001b[0m \u001b[1;32mimport\u001b[0m \u001b[0mLazyLoader\u001b[0m \u001b[1;32mas\u001b[0m \u001b[0m_LazyLoader\u001b[0m\u001b[1;33m\u001b[0m\u001b[1;33m\u001b[0m\u001b[0m\n\u001b[0;32m     40\u001b[0m \u001b[1;33m\u001b[0m\u001b[0m\n",
      "\u001b[1;32m~\\anaconda3\\lib\\site-packages\\tensorflow\\python\\__init__.py\u001b[0m in \u001b[0;36m<module>\u001b[1;34m\u001b[0m\n\u001b[0;32m     35\u001b[0m \u001b[1;33m\u001b[0m\u001b[0m\n\u001b[0;32m     36\u001b[0m \u001b[1;32mfrom\u001b[0m \u001b[0mtensorflow\u001b[0m\u001b[1;33m.\u001b[0m\u001b[0mpython\u001b[0m \u001b[1;32mimport\u001b[0m \u001b[0mpywrap_tensorflow\u001b[0m \u001b[1;32mas\u001b[0m \u001b[0m_pywrap_tensorflow\u001b[0m\u001b[1;33m\u001b[0m\u001b[1;33m\u001b[0m\u001b[0m\n\u001b[1;32m---> 37\u001b[1;33m \u001b[1;32mfrom\u001b[0m \u001b[0mtensorflow\u001b[0m\u001b[1;33m.\u001b[0m\u001b[0mpython\u001b[0m\u001b[1;33m.\u001b[0m\u001b[0meager\u001b[0m \u001b[1;32mimport\u001b[0m \u001b[0mcontext\u001b[0m\u001b[1;33m\u001b[0m\u001b[1;33m\u001b[0m\u001b[0m\n\u001b[0m\u001b[0;32m     38\u001b[0m \u001b[1;33m\u001b[0m\u001b[0m\n\u001b[0;32m     39\u001b[0m \u001b[1;31m# pylint: enable=wildcard-import\u001b[0m\u001b[1;33m\u001b[0m\u001b[1;33m\u001b[0m\u001b[0m\n",
      "\u001b[1;32m~\\anaconda3\\lib\\site-packages\\tensorflow\\python\\eager\\context.py\u001b[0m in \u001b[0;36m<module>\u001b[1;34m\u001b[0m\n\u001b[0;32m     34\u001b[0m \u001b[1;32mfrom\u001b[0m \u001b[0mtensorflow\u001b[0m\u001b[1;33m.\u001b[0m\u001b[0mpython\u001b[0m\u001b[1;33m.\u001b[0m\u001b[0mclient\u001b[0m \u001b[1;32mimport\u001b[0m \u001b[0mpywrap_tf_session\u001b[0m\u001b[1;33m\u001b[0m\u001b[1;33m\u001b[0m\u001b[0m\n\u001b[0;32m     35\u001b[0m \u001b[1;32mfrom\u001b[0m \u001b[0mtensorflow\u001b[0m\u001b[1;33m.\u001b[0m\u001b[0mpython\u001b[0m\u001b[1;33m.\u001b[0m\u001b[0meager\u001b[0m \u001b[1;32mimport\u001b[0m \u001b[0mcancellation\u001b[0m\u001b[1;33m\u001b[0m\u001b[1;33m\u001b[0m\u001b[0m\n\u001b[1;32m---> 36\u001b[1;33m \u001b[1;32mfrom\u001b[0m \u001b[0mtensorflow\u001b[0m\u001b[1;33m.\u001b[0m\u001b[0mpython\u001b[0m\u001b[1;33m.\u001b[0m\u001b[0meager\u001b[0m \u001b[1;32mimport\u001b[0m \u001b[0mexecute\u001b[0m\u001b[1;33m\u001b[0m\u001b[1;33m\u001b[0m\u001b[0m\n\u001b[0m\u001b[0;32m     37\u001b[0m \u001b[1;32mfrom\u001b[0m \u001b[0mtensorflow\u001b[0m\u001b[1;33m.\u001b[0m\u001b[0mpython\u001b[0m\u001b[1;33m.\u001b[0m\u001b[0meager\u001b[0m \u001b[1;32mimport\u001b[0m \u001b[0mexecutor\u001b[0m\u001b[1;33m\u001b[0m\u001b[1;33m\u001b[0m\u001b[0m\n\u001b[0;32m     38\u001b[0m \u001b[1;32mfrom\u001b[0m \u001b[0mtensorflow\u001b[0m\u001b[1;33m.\u001b[0m\u001b[0mpython\u001b[0m\u001b[1;33m.\u001b[0m\u001b[0meager\u001b[0m \u001b[1;32mimport\u001b[0m \u001b[0mmonitoring\u001b[0m\u001b[1;33m\u001b[0m\u001b[1;33m\u001b[0m\u001b[0m\n",
      "\u001b[1;32m~\\anaconda3\\lib\\site-packages\\tensorflow\\python\\eager\\execute.py\u001b[0m in \u001b[0;36m<module>\u001b[1;34m\u001b[0m\n\u001b[0;32m     19\u001b[0m \u001b[1;32mfrom\u001b[0m \u001b[0mtensorflow\u001b[0m\u001b[1;33m.\u001b[0m\u001b[0mpython\u001b[0m \u001b[1;32mimport\u001b[0m \u001b[0mpywrap_tfe\u001b[0m\u001b[1;33m\u001b[0m\u001b[1;33m\u001b[0m\u001b[0m\n\u001b[0;32m     20\u001b[0m \u001b[1;32mfrom\u001b[0m \u001b[0mtensorflow\u001b[0m\u001b[1;33m.\u001b[0m\u001b[0mpython\u001b[0m\u001b[1;33m.\u001b[0m\u001b[0meager\u001b[0m \u001b[1;32mimport\u001b[0m \u001b[0mcore\u001b[0m\u001b[1;33m\u001b[0m\u001b[1;33m\u001b[0m\u001b[0m\n\u001b[1;32m---> 21\u001b[1;33m \u001b[1;32mfrom\u001b[0m \u001b[0mtensorflow\u001b[0m\u001b[1;33m.\u001b[0m\u001b[0mpython\u001b[0m\u001b[1;33m.\u001b[0m\u001b[0mframework\u001b[0m \u001b[1;32mimport\u001b[0m \u001b[0mdtypes\u001b[0m\u001b[1;33m\u001b[0m\u001b[1;33m\u001b[0m\u001b[0m\n\u001b[0m\u001b[0;32m     22\u001b[0m \u001b[1;32mfrom\u001b[0m \u001b[0mtensorflow\u001b[0m\u001b[1;33m.\u001b[0m\u001b[0mpython\u001b[0m\u001b[1;33m.\u001b[0m\u001b[0mframework\u001b[0m \u001b[1;32mimport\u001b[0m \u001b[0mtensor_conversion_registry\u001b[0m\u001b[1;33m\u001b[0m\u001b[1;33m\u001b[0m\u001b[0m\n\u001b[0;32m     23\u001b[0m \u001b[1;32mfrom\u001b[0m \u001b[0mtensorflow\u001b[0m\u001b[1;33m.\u001b[0m\u001b[0mpython\u001b[0m\u001b[1;33m.\u001b[0m\u001b[0mframework\u001b[0m \u001b[1;32mimport\u001b[0m \u001b[0mtensor_shape\u001b[0m\u001b[1;33m\u001b[0m\u001b[1;33m\u001b[0m\u001b[0m\n",
      "\u001b[1;32m~\\anaconda3\\lib\\site-packages\\tensorflow\\python\\framework\\dtypes.py\u001b[0m in \u001b[0;36m<module>\u001b[1;34m\u001b[0m\n\u001b[0;32m     36\u001b[0m \u001b[1;32mfrom\u001b[0m \u001b[0mtensorflow\u001b[0m\u001b[1;33m.\u001b[0m\u001b[0mpython\u001b[0m\u001b[1;33m.\u001b[0m\u001b[0mframework\u001b[0m \u001b[1;32mimport\u001b[0m \u001b[0mcpp_shape_inference_pb2\u001b[0m\u001b[1;33m\u001b[0m\u001b[1;33m\u001b[0m\u001b[0m\n\u001b[0;32m     37\u001b[0m \u001b[1;33m\u001b[0m\u001b[0m\n\u001b[1;32m---> 38\u001b[1;33m \u001b[0m_np_bfloat16\u001b[0m \u001b[1;33m=\u001b[0m \u001b[0mpywrap_bfloat16\u001b[0m\u001b[1;33m.\u001b[0m\u001b[0mbfloat16_type\u001b[0m\u001b[1;33m(\u001b[0m\u001b[1;33m)\u001b[0m\u001b[1;33m\u001b[0m\u001b[1;33m\u001b[0m\u001b[0m\n\u001b[0m\u001b[0;32m     39\u001b[0m \u001b[0m_np_float8_e4m3fn\u001b[0m \u001b[1;33m=\u001b[0m \u001b[0m_pywrap_float8\u001b[0m\u001b[1;33m.\u001b[0m\u001b[0mTF_float8_e4m3fn_type\u001b[0m\u001b[1;33m(\u001b[0m\u001b[1;33m)\u001b[0m\u001b[1;33m\u001b[0m\u001b[1;33m\u001b[0m\u001b[0m\n\u001b[0;32m     40\u001b[0m \u001b[0m_np_float8_e5m2\u001b[0m \u001b[1;33m=\u001b[0m \u001b[0m_pywrap_float8\u001b[0m\u001b[1;33m.\u001b[0m\u001b[0mTF_float8_e5m2_type\u001b[0m\u001b[1;33m(\u001b[0m\u001b[1;33m)\u001b[0m\u001b[1;33m\u001b[0m\u001b[1;33m\u001b[0m\u001b[0m\n",
      "\u001b[1;31mTypeError\u001b[0m: Unable to convert function return value to a Python type! The signature was\n\t() -> handle"
     ]
    }
   ],
   "source": [
    "! pip install tensorflow\n",
    "\n",
    "import tensorflow as tf\n",
    "import tensorflow_hub as hub\n",
    "import tensorflow_text as text\n",
    "\n",
    "bert_preprocess = hub.KerasLayer(\"https://tfhub.dev/tensorflow/bert_en_uncased_preprocess/3\")\n",
    "bert_encoder = hub.KerasLayer(\"https://tfhub.dev/tensorflow/bert_en_uncased_L-12_H-768_A-12/4\")"
   ]
  },
  {
   "cell_type": "code",
   "execution_count": 83,
   "id": "414c8e89",
   "metadata": {
    "scrolled": true
   },
   "outputs": [
    {
     "ename": "NameError",
     "evalue": "name 'tf' is not defined",
     "output_type": "error",
     "traceback": [
      "\u001b[1;31m---------------------------------------------------------------------------\u001b[0m",
      "\u001b[1;31mNameError\u001b[0m                                 Traceback (most recent call last)",
      "\u001b[1;32m~\\AppData\\Local\\Temp\\ipykernel_6560\\3112553865.py\u001b[0m in \u001b[0;36m<module>\u001b[1;34m\u001b[0m\n\u001b[0;32m      1\u001b[0m \u001b[1;31m# Bert layers\u001b[0m\u001b[1;33m\u001b[0m\u001b[1;33m\u001b[0m\u001b[0m\n\u001b[1;32m----> 2\u001b[1;33m \u001b[0mtext_input\u001b[0m \u001b[1;33m=\u001b[0m \u001b[0mtf\u001b[0m\u001b[1;33m.\u001b[0m\u001b[0mkeras\u001b[0m\u001b[1;33m.\u001b[0m\u001b[0mlayers\u001b[0m\u001b[1;33m.\u001b[0m\u001b[0mInput\u001b[0m\u001b[1;33m(\u001b[0m\u001b[0mshape\u001b[0m\u001b[1;33m=\u001b[0m\u001b[1;33m(\u001b[0m\u001b[1;33m)\u001b[0m\u001b[1;33m,\u001b[0m \u001b[0mdtype\u001b[0m\u001b[1;33m=\u001b[0m\u001b[0mtf\u001b[0m\u001b[1;33m.\u001b[0m\u001b[0mstring\u001b[0m\u001b[1;33m,\u001b[0m \u001b[0mname\u001b[0m\u001b[1;33m=\u001b[0m\u001b[1;34m'text'\u001b[0m\u001b[1;33m)\u001b[0m\u001b[1;33m\u001b[0m\u001b[1;33m\u001b[0m\u001b[0m\n\u001b[0m\u001b[0;32m      3\u001b[0m \u001b[0mpreprocessed_text\u001b[0m \u001b[1;33m=\u001b[0m \u001b[0mbert_preprocess\u001b[0m\u001b[1;33m(\u001b[0m\u001b[0mtext_input\u001b[0m\u001b[1;33m)\u001b[0m\u001b[1;33m\u001b[0m\u001b[1;33m\u001b[0m\u001b[0m\n\u001b[0;32m      4\u001b[0m \u001b[0moutputs\u001b[0m \u001b[1;33m=\u001b[0m \u001b[0mbert_encoder\u001b[0m\u001b[1;33m(\u001b[0m\u001b[0mpreprocessed_text\u001b[0m\u001b[1;33m)\u001b[0m\u001b[1;33m\u001b[0m\u001b[1;33m\u001b[0m\u001b[0m\n\u001b[0;32m      5\u001b[0m \u001b[1;33m\u001b[0m\u001b[0m\n",
      "\u001b[1;31mNameError\u001b[0m: name 'tf' is not defined"
     ]
    }
   ],
   "source": [
    "# Bert layers\n",
    "text_input = tf.keras.layers.Input(shape=(), dtype=tf.string, name='text')\n",
    "preprocessed_text = bert_preprocess(text_input)\n",
    "outputs = bert_encoder(preprocessed_text)\n",
    "\n",
    "# Neural network layers\n",
    "l = tf.keras.layers.Dropout(0.1, name=\"dropout\")(outputs['pooled_output'])\n",
    "l = tf.keras.layers.Dense(1, activation='sigmoid', name=\"output\")(l)\n",
    "\n",
    "# Use inputs and outputs to construct a final model\n",
    "model = tf.keras.Model(inputs=[text_input], outputs = [l])"
   ]
  },
  {
   "cell_type": "code",
   "execution_count": null,
   "id": "27bf08dd",
   "metadata": {},
   "outputs": [],
   "source": [
    "model.summary()"
   ]
  },
  {
   "cell_type": "code",
   "execution_count": null,
   "id": "4a67851a",
   "metadata": {},
   "outputs": [],
   "source": [
    "METRICS = [\n",
    "      tf.keras.metrics.BinaryAccuracy(name='accuracy'),\n",
    "      tf.keras.metrics.Precision(name='precision'),\n",
    "      tf.keras.metrics.Recall(name='recall')\n",
    "]\n",
    "\n",
    "model.compile(optimizer='adam',\n",
    "              loss='binary_crossentropy',\n",
    "              metrics=METRICS)"
   ]
  },
  {
   "cell_type": "code",
   "execution_count": null,
   "id": "06bf25e3",
   "metadata": {
    "collapsed": true
   },
   "outputs": [],
   "source": [
    "# model.fit(X_train, y_train, epochs=10)"
   ]
  },
  {
   "cell_type": "code",
   "execution_count": null,
   "id": "769a8f98",
   "metadata": {
    "collapsed": true
   },
   "outputs": [],
   "source": [
    "# model.evaluate(X_test, y_test)"
   ]
  },
  {
   "cell_type": "code",
   "execution_count": null,
   "id": "b8a8c39b",
   "metadata": {
    "collapsed": true
   },
   "outputs": [],
   "source": [
    "# y_predicted = model.predict(X_test)\n",
    "# y_predicted = y_predicted.flatten()"
   ]
  },
  {
   "cell_type": "code",
   "execution_count": null,
   "id": "3679b4f0",
   "metadata": {
    "collapsed": true
   },
   "outputs": [],
   "source": [
    "# import numpy as np\n",
    "\n",
    "# y_predicted = np.where(y_predicted > 0.5, 1, 0)\n",
    "# y_predicted"
   ]
  },
  {
   "cell_type": "code",
   "execution_count": null,
   "id": "5164f817",
   "metadata": {
    "collapsed": true
   },
   "outputs": [],
   "source": [
    "# from sklearn.metrics import confusion_matrix, classification_report\n",
    "\n",
    "# cm = confusion_matrix(y_test, y_predicted)\n",
    "# cm "
   ]
  },
  {
   "cell_type": "code",
   "execution_count": null,
   "id": "8a80f073",
   "metadata": {
    "collapsed": true
   },
   "outputs": [],
   "source": [
    "# from matplotlib import pyplot as plt\n",
    "# import seaborn as sn\n",
    "# sn.heatmap(cm, annot=True, fmt='d')\n",
    "# plt.xlabel('Predicted')\n",
    "# plt.ylabel('Truth')"
   ]
  },
  {
   "cell_type": "code",
   "execution_count": null,
   "id": "0d6cc572",
   "metadata": {},
   "outputs": [],
   "source": [
    "# print(classification_report(y_test, y_predicted))"
   ]
  },
  {
   "cell_type": "markdown",
   "id": "ceadbf2f",
   "metadata": {},
   "source": [
    "<font size=\"6\">Title similarity<font>"
   ]
  },
  {
   "cell_type": "code",
   "execution_count": null,
   "id": "2d529a48",
   "metadata": {},
   "outputs": [],
   "source": [
    "# import numpy as np\n",
    "# import matplotlib.pyplot as plt\n",
    "# from sklearn.cluster import AgglomerativeClustering\n",
    "# from sklearn.metrics.pairwise import cosine_similarity\n",
    "# from sklearn.feature_extraction.text import TfidfVectorizer\n",
    "\n",
    "# def calculate_similarity(title1, title2):\n",
    "\n",
    "#     #Calculates the cosine similarity between two news titles.\n",
    "    \n",
    "#     vectorizer = TfidfVectorizer()\n",
    "#     title_list = [title1, title2]\n",
    "#     tfidf_matrix = vectorizer.fit_transform(title_list)\n",
    "#     return cosine_similarity(tfidf_matrix)[0][1]"
   ]
  },
  {
   "cell_type": "code",
   "execution_count": null,
   "id": "04b8a305",
   "metadata": {},
   "outputs": [],
   "source": [
    "# def cluster_news_titles(filtered_df):\n",
    "\n",
    "#     # Create a similarity matrix\n",
    "#     similarity_matrix = np.zeros((len(filtered_df), len(filtered_df)))\n",
    "#     for i in range(len(filtered_df)):\n",
    "#         for j in range(i + 1, len(filtered_df)):\n",
    "#             if i in filtered_df.index and j in filtered_df.index:\n",
    "#                 similarity_matrix[i][j] = calculate_similarity(filtered_df.loc[i, 'Title'], filtered_df.loc[j, 'Title'])\n",
    "#                 similarity_matrix[j][i] = similarity_matrix[i][j]\n",
    "\n",
    "#     # Create a clustering algorithm\n",
    "#     clustering_algorithm = AgglomerativeClustering(n_clusters=2)\n",
    "\n",
    "#     # Cluster the news titles\n",
    "#     clustering_algorithm.fit(similarity_matrix)\n",
    "\n",
    "#     # Return the clusters\n",
    "#     return clustering_algorithm.labels_\n",
    "\n",
    "# # Cluster the news titles\n",
    "# clusters = cluster_news_titles(filtered_df)\n",
    "\n",
    "# # Print the clusters\n",
    "# print(clusters)\n"
   ]
  },
  {
   "cell_type": "code",
   "execution_count": null,
   "id": "05e97973",
   "metadata": {},
   "outputs": [],
   "source": [
    "# def visualize_clusters(filtered_df, clusters):\n",
    "#     cluster_data = {}\n",
    "#     for cluster_label, title in zip(clusters, filtered_df['Title']):\n",
    "#         if cluster_label not in cluster_data:\n",
    "#             cluster_data[cluster_label] = [title]\n",
    "#         else:\n",
    "#             cluster_data[cluster_label].append(title)\n",
    "\n",
    "#     for cluster_label, titles in cluster_data.items():\n",
    "#         print(f\"Cluster {cluster_label}:\")\n",
    "#         for title in titles:\n",
    "#             print(f\" - {title}\")\n",
    "\n",
    "#         # Visualize the cluster\n",
    "#         plt.figure(figsize=(10, 5))\n",
    "#         plt.title(f\"Cluster {cluster_label}\")\n",
    "#         plt.bar(range(len(titles)), [1] * len(titles), tick_label=titles)\n",
    "#         plt.xticks(rotation=90)\n",
    "#         plt.show()\n",
    "\n",
    "# # Call the visualization function\n",
    "# visualize_clusters(filtered_df, clusters)\n"
   ]
  },
  {
   "cell_type": "code",
   "execution_count": null,
   "id": "6e6e337e",
   "metadata": {},
   "outputs": [],
   "source": []
  },
  {
   "cell_type": "code",
   "execution_count": null,
   "id": "474c0bb5",
   "metadata": {},
   "outputs": [],
   "source": []
  },
  {
   "cell_type": "code",
   "execution_count": null,
   "id": "182195b9",
   "metadata": {},
   "outputs": [],
   "source": []
  },
  {
   "cell_type": "code",
   "execution_count": null,
   "id": "b2ba6b1d",
   "metadata": {},
   "outputs": [],
   "source": [
    "\n"
   ]
  },
  {
   "cell_type": "code",
   "execution_count": null,
   "id": "70691220",
   "metadata": {},
   "outputs": [],
   "source": []
  }
 ],
 "metadata": {
  "kernelspec": {
   "display_name": "Python 3 (ipykernel)",
   "language": "python",
   "name": "python3"
  },
  "language_info": {
   "codemirror_mode": {
    "name": "ipython",
    "version": 3
   },
   "file_extension": ".py",
   "mimetype": "text/x-python",
   "name": "python",
   "nbconvert_exporter": "python",
   "pygments_lexer": "ipython3",
   "version": "3.9.13"
  }
 },
 "nbformat": 4,
 "nbformat_minor": 5
}
